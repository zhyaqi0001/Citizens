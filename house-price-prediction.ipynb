{
 "cells": [
  {
   "cell_type": "code",
   "execution_count": 1,
   "metadata": {
    "_cell_guid": "b1076dfc-b9ad-4769-8c92-a6c4dae69d19",
    "_uuid": "8f2839f25d086af736a60e9eeb907d3b93b6e0e5"
   },
   "outputs": [
    {
     "name": "stdout",
     "output_type": "stream",
     "text": [
      "['citizens']\n",
      "['datathon_propattributes.csv', 'datathon_propattributes.obj', 'demoNotebook.html', 'FileLayout.xlsx', 'demoNotebook.ipynb']\n"
     ]
    }
   ],
   "source": [
    "# This Python 3 environment comes with many helpful analytics libraries installed\n",
    "# It is defined by the kaggle/python docker image: https://github.com/kaggle/docker-python\n",
    "# For example, here's several helpful packages to load in \n",
    "\n",
    "import numpy as np # linear algebra\n",
    "import pandas as pd # data processing, CSV file I/O (e.g. pd.read_csv)\n",
    "import pickle\n",
    "import datetime as dt\n",
    "import matplotlib.pyplot as plt\n",
    "from scipy import stats\n",
    "import mpl_toolkits\n",
    "import seaborn as sns\n",
    "from scipy.stats import norm, skew\n",
    "import random \n",
    "import warnings\n",
    "warnings.filterwarnings('ignore')\n",
    "\n",
    "from mpl_toolkits.basemap import Basemap\n",
    "from matplotlib.patches import Polygon\n",
    "from matplotlib.collections import PatchCollection\n",
    "from matplotlib.colors import Normalize  \n",
    "# Input data files are available in the \"../input/\" directory.\n",
    "# For example, running this (by clicking run or pressing Shift+Enter) will list the files in the input directory\n",
    "\n",
    "import os\n",
    "print(os.listdir(\"../input\"))\n",
    "print(os.listdir(\"../input/citizens/Citizens\"))\n",
    "\n",
    "# Any results you write to the current directory are saved as output."
   ]
  },
  {
   "cell_type": "code",
   "execution_count": 2,
   "metadata": {
    "_cell_guid": "79c7e3d0-c299-4dcb-8224-4455121ee9b0",
    "_uuid": "d629ff2d2480ee46fbb7e2d37f6b5fab8052498a"
   },
   "outputs": [],
   "source": [
    "%matplotlib inline\n",
    "path = '../input/citizens/Citizens'\n",
    "\n",
    "#Read in the data\n",
    "data = open(path + '/datathon_propattributes.obj', 'rb')\n",
    "data = pickle.load(data)\n",
    "\n",
    "pd.set_option('display.max_rows', 200)"
   ]
  },
  {
   "cell_type": "code",
   "execution_count": 3,
   "metadata": {},
   "outputs": [
    {
     "name": "stdout",
     "output_type": "stream",
     "text": [
      "Size of data : (4413212, 74)\n"
     ]
    }
   ],
   "source": [
    "#data_original = data.copy()\n",
    "print (\"Size of data : {}\" .format(data.shape))"
   ]
  },
  {
   "cell_type": "markdown",
   "metadata": {},
   "source": [
    "## Feature engineering\n",
    "#### The following columns are dropped either due to large missing ratio or not helpful for prediction of hourse price."
   ]
  },
  {
   "cell_type": "code",
   "execution_count": 4,
   "metadata": {},
   "outputs": [
    {
     "data": {
      "text/plain": [
       "Index(['fips_cd', 'apn', 'IsTraining', 'prop_house_number',\n",
       "       'prop_house_number_2', 'prop_house_number_suffix',\n",
       "       'prop_direction_left', 'prop_street_name', 'prop_suffix',\n",
       "       'prop_direction_right', 'prop_unit_type', 'prop_unit_number',\n",
       "       'prop_city', 'prop_state', 'prop_zip_code', 'prop_zip_plus_4',\n",
       "       'dwelling_type', 'zoning', 'census_tract', 'mobile_home_ind',\n",
       "       'timeshare_ind', 'acres', 'land_square_footage', 'irregular_lot_flg',\n",
       "       'assessed_total_value', 'assessed_land_value',\n",
       "       'assessed_improvement_value', 'market_total_value', 'market_land_value',\n",
       "       'market_improvement_value', 'tax_amt', 'tax_year',\n",
       "       'delinquent_tax_year', 'assessed_year', 'tax_cd_area',\n",
       "       'building_square_feet', 'total_living_square_feet',\n",
       "       'total_ground_floor_square_feet', 'total_basement_square_feet',\n",
       "       'total_garage_parking_square_feet', 'year_built',\n",
       "       'effective_year_built', 'bedrooms', 'total_rooms',\n",
       "       'total_baths_calculated', 'air_conditioning', 'basement_cd',\n",
       "       'condition', 'construction_type', 'fireplace_num', 'garage_type',\n",
       "       'heating_type', 'construction_quality', 'roof_cover', 'roof_type',\n",
       "       'stories_cd', 'style', 'geocode_latitude', 'geocode_longitude',\n",
       "       'avm_final_value0', 'avm_std_deviation0', 'avm_final_value1',\n",
       "       'avm_std_deviation1', 'avm_final_value2', 'avm_std_deviation2',\n",
       "       'avm_final_value3', 'avm_std_deviation3', 'avm_final_value4',\n",
       "       'avm_std_deviation4', 'first_mtg_amt', 'distressed_sale_flg',\n",
       "       'sale_amt', 'transaction_date', 'transaction_dt'],\n",
       "      dtype='object')"
      ]
     },
     "execution_count": 4,
     "metadata": {},
     "output_type": "execute_result"
    }
   ],
   "source": [
    "data.columns"
   ]
  },
  {
   "cell_type": "code",
   "execution_count": 5,
   "metadata": {},
   "outputs": [],
   "source": [
    "#columns are deleted because 'transaction_date' has corresponding 'transaction_dt' column\n",
    "# and 'IsTraining' does not contain any useful information\n",
    "columns_to_drop3 = ['transaction_date','IsTraining'] \n",
    "\n",
    "\n",
    "for col in columns_to_drop3:\n",
    "    data.drop(col,axis = 1,inplace = True)\n",
    "\n",
    "# columns with 'avm' are only available for training samples and not available for testing samples. \n",
    "# They are also dropped for consistance.\n",
    "col_avm = []\n",
    "for col in data.columns:\n",
    "    if 'avm' in col:\n",
    "        col_avm.append(col)\n",
    "        \n",
    "for col in col_avm:\n",
    "    data.drop(col,axis = 1,inplace = True)"
   ]
  },
  {
   "cell_type": "code",
   "execution_count": 6,
   "metadata": {},
   "outputs": [],
   "source": [
    "data['transaction_year'] = data['transaction_dt'].apply(lambda x: x.year)"
   ]
  },
  {
   "cell_type": "code",
   "execution_count": 7,
   "metadata": {},
   "outputs": [],
   "source": [
    "mindatetime = min(data['transaction_dt'])\n",
    "data['transaction_dt'] = (data['transaction_dt'] - mindatetime)\n",
    "data['transaction_dt'] = data['transaction_dt'].apply(lambda x: x.days)"
   ]
  },
  {
   "cell_type": "code",
   "execution_count": 8,
   "metadata": {
    "_kg_hide-input": true
   },
   "outputs": [],
   "source": [
    "# def check_skewness(col):\n",
    "#     sns.distplot(data[col] , fit=norm);\n",
    "#     fig = plt.figure()\n",
    "#     res = stats.probplot(data[col], plot=plt)\n",
    "#     # Get the fitted parameters used by the function\n",
    "#     (mu, sigma) = norm.fit(data[col])\n",
    "#     print( '\\n mu = {:.2f} and sigma = {:.2f}\\n'.format(mu, sigma))\n",
    "    \n",
    "# check_skewness('sale_amt')"
   ]
  },
  {
   "cell_type": "markdown",
   "metadata": {},
   "source": [
    "## Split data into subdatasets"
   ]
  },
  {
   "cell_type": "code",
   "execution_count": 9,
   "metadata": {},
   "outputs": [
    {
     "data": {
      "text/plain": [
       "array(['PA', 'RI', 'MA'], dtype=object)"
      ]
     },
     "execution_count": 9,
     "metadata": {},
     "output_type": "execute_result"
    }
   ],
   "source": [
    "data['prop_state'].unique()"
   ]
  },
  {
   "cell_type": "code",
   "execution_count": 10,
   "metadata": {},
   "outputs": [
    {
     "data": {
      "text/plain": [
       "(224059, 2817134, 1372019)"
      ]
     },
     "execution_count": 10,
     "metadata": {},
     "output_type": "execute_result"
    }
   ],
   "source": [
    "# split dataset into three subsets. Because some features are not contained for all the states.\n",
    "dataRI = data[data['prop_state'] == 'RI']\n",
    "dataPA = data[data['prop_state'] == 'PA']\n",
    "dataMA = data[data['prop_state'] == 'MA']\n",
    "len(dataRI),len(dataPA),len(dataMA)"
   ]
  },
  {
   "cell_type": "code",
   "execution_count": 11,
   "metadata": {},
   "outputs": [
    {
     "data": {
      "image/png": "[encoded data removed]",
      "text/plain": [
       "<Figure size 864x432 with 1 Axes>"
      ]
     },
     "metadata": {},
     "output_type": "display_data"
    }
   ],
   "source": [
    "var = 'transaction_year'\n",
    "data_year = pd.concat([dataMA['sale_amt'], dataMA[var]], axis=1)\n",
    "f, ax = plt.subplots(figsize=(12, 6))\n",
    "fig = sns.boxplot(x=var, y=\"sale_amt\", data=data_year)\n",
    "fig.axis(ymin=0, ymax=800000);\n",
    "plt.xticks(rotation=90);"
   ]
  },
  {
   "cell_type": "code",
   "execution_count": 12,
   "metadata": {},
   "outputs": [
    {
     "data": {
      "image/png": "[encoded data removed]",
      "text/plain": [
       "<Figure size 864x432 with 1 Axes>"
      ]
     },
     "metadata": {},
     "output_type": "display_data"
    }
   ],
   "source": [
    "var = 'transaction_year'\n",
    "data_year = pd.concat([dataRI['sale_amt'], dataRI[var]], axis=1)\n",
    "f, ax = plt.subplots(figsize=(12, 6))\n",
    "fig = sns.boxplot(x=var, y=\"sale_amt\", data=data_year)\n",
    "fig.axis(ymin=0, ymax=800000);\n",
    "plt.xticks(rotation=90);"
   ]
  },
  {
   "cell_type": "code",
   "execution_count": 13,
   "metadata": {},
   "outputs": [
    {
     "data": {
      "image/png": "[encoded data removed]",
      "text/plain": [
       "<Figure size 1152x576 with 1 Axes>"
      ]
     },
     "metadata": {},
     "output_type": "display_data"
    }
   ],
   "source": [
    "var = 'transaction_year'\n",
    "data_year = pd.concat([dataPA['sale_amt'], dataPA[var]], axis=1)\n",
    "f, ax = plt.subplots(figsize=(16, 8))\n",
    "fig = sns.boxplot(x=var, y=\"sale_amt\", data=data_year)\n",
    "fig.axis(ymin=0, ymax=800000);\n",
    "plt.xticks(rotation=90);"
   ]
  },
  {
   "cell_type": "markdown",
   "metadata": {},
   "source": [
    "Since dataPA requires most data-cleans process, please refer to kernel [https://www.kaggle.com/zhyaqi/house-price-prediction-pa] for reference. "
   ]
  },
  {
   "cell_type": "markdown",
   "metadata": {},
   "source": [
    "## MA data"
   ]
  },
  {
   "cell_type": "code",
   "execution_count": 14,
   "metadata": {},
   "outputs": [
    {
     "data": {
      "text/html": [
       "<div>\n",
       "<style scoped>\n",
       "    .dataframe tbody tr th:only-of-type {\n",
       "        vertical-align: middle;\n",
       "    }\n",
       "\n",
       "    .dataframe tbody tr th {\n",
       "        vertical-align: top;\n",
       "    }\n",
       "\n",
       "    .dataframe thead th {\n",
       "        text-align: right;\n",
       "    }\n",
       "</style>\n",
       "<table border=\"1\" class=\"dataframe\">\n",
       "  <thead>\n",
       "    <tr style=\"text-align: right;\">\n",
       "      <th></th>\n",
       "      <th>missing_ratio</th>\n",
       "      <th>data_type</th>\n",
       "      <th>number_unique</th>\n",
       "      <th>zeros_ratio</th>\n",
       "      <th>number_unique_ratio</th>\n",
       "    </tr>\n",
       "  </thead>\n",
       "  <tbody>\n",
       "    <tr>\n",
       "      <th>fips_cd</th>\n",
       "      <td>0.000000</td>\n",
       "      <td>object</td>\n",
       "      <td>14.0</td>\n",
       "      <td>NaN</td>\n",
       "      <td>0.000317</td>\n",
       "    </tr>\n",
       "    <tr>\n",
       "      <th>apn</th>\n",
       "      <td>0.000000</td>\n",
       "      <td>object</td>\n",
       "      <td>907031.0</td>\n",
       "      <td>NaN</td>\n",
       "      <td>20.552627</td>\n",
       "    </tr>\n",
       "    <tr>\n",
       "      <th>prop_house_number</th>\n",
       "      <td>0.642994</td>\n",
       "      <td>object</td>\n",
       "      <td>7926.0</td>\n",
       "      <td>NaN</td>\n",
       "      <td>0.179597</td>\n",
       "    </tr>\n",
       "    <tr>\n",
       "      <th>prop_house_number_2</th>\n",
       "      <td>99.999563</td>\n",
       "      <td>object</td>\n",
       "      <td>1.0</td>\n",
       "      <td>NaN</td>\n",
       "      <td>0.000023</td>\n",
       "    </tr>\n",
       "    <tr>\n",
       "      <th>prop_house_number_suffix</th>\n",
       "      <td>100.000000</td>\n",
       "      <td>object</td>\n",
       "      <td>0.0</td>\n",
       "      <td>NaN</td>\n",
       "      <td>0.000000</td>\n",
       "    </tr>\n",
       "    <tr>\n",
       "      <th>prop_direction_left</th>\n",
       "      <td>96.869796</td>\n",
       "      <td>object</td>\n",
       "      <td>8.0</td>\n",
       "      <td>NaN</td>\n",
       "      <td>0.000181</td>\n",
       "    </tr>\n",
       "    <tr>\n",
       "      <th>prop_street_name</th>\n",
       "      <td>0.005831</td>\n",
       "      <td>object</td>\n",
       "      <td>25631.0</td>\n",
       "      <td>NaN</td>\n",
       "      <td>0.580779</td>\n",
       "    </tr>\n",
       "    <tr>\n",
       "      <th>prop_suffix</th>\n",
       "      <td>0.997362</td>\n",
       "      <td>object</td>\n",
       "      <td>97.0</td>\n",
       "      <td>NaN</td>\n",
       "      <td>0.002198</td>\n",
       "    </tr>\n",
       "    <tr>\n",
       "      <th>prop_direction_right</th>\n",
       "      <td>99.660282</td>\n",
       "      <td>object</td>\n",
       "      <td>5.0</td>\n",
       "      <td>NaN</td>\n",
       "      <td>0.000113</td>\n",
       "    </tr>\n",
       "    <tr>\n",
       "      <th>prop_unit_type</th>\n",
       "      <td>82.831579</td>\n",
       "      <td>object</td>\n",
       "      <td>25.0</td>\n",
       "      <td>NaN</td>\n",
       "      <td>0.000566</td>\n",
       "    </tr>\n",
       "    <tr>\n",
       "      <th>prop_unit_number</th>\n",
       "      <td>82.834130</td>\n",
       "      <td>object</td>\n",
       "      <td>7051.0</td>\n",
       "      <td>NaN</td>\n",
       "      <td>0.159770</td>\n",
       "    </tr>\n",
       "    <tr>\n",
       "      <th>prop_city</th>\n",
       "      <td>0.000729</td>\n",
       "      <td>object</td>\n",
       "      <td>473.0</td>\n",
       "      <td>NaN</td>\n",
       "      <td>0.010718</td>\n",
       "    </tr>\n",
       "    <tr>\n",
       "      <th>prop_state</th>\n",
       "      <td>0.000000</td>\n",
       "      <td>object</td>\n",
       "      <td>1.0</td>\n",
       "      <td>NaN</td>\n",
       "      <td>0.000023</td>\n",
       "    </tr>\n",
       "    <tr>\n",
       "      <th>prop_zip_code</th>\n",
       "      <td>0.001239</td>\n",
       "      <td>object</td>\n",
       "      <td>520.0</td>\n",
       "      <td>NaN</td>\n",
       "      <td>0.011783</td>\n",
       "    </tr>\n",
       "    <tr>\n",
       "      <th>prop_zip_plus_4</th>\n",
       "      <td>4.080847</td>\n",
       "      <td>object</td>\n",
       "      <td>8770.0</td>\n",
       "      <td>NaN</td>\n",
       "      <td>0.198721</td>\n",
       "    </tr>\n",
       "    <tr>\n",
       "      <th>dwelling_type</th>\n",
       "      <td>0.002041</td>\n",
       "      <td>object</td>\n",
       "      <td>119.0</td>\n",
       "      <td>NaN</td>\n",
       "      <td>0.002696</td>\n",
       "    </tr>\n",
       "    <tr>\n",
       "      <th>zoning</th>\n",
       "      <td>42.959682</td>\n",
       "      <td>object</td>\n",
       "      <td>1117.0</td>\n",
       "      <td>NaN</td>\n",
       "      <td>0.025310</td>\n",
       "    </tr>\n",
       "    <tr>\n",
       "      <th>census_tract</th>\n",
       "      <td>4.581788</td>\n",
       "      <td>object</td>\n",
       "      <td>1458.0</td>\n",
       "      <td>NaN</td>\n",
       "      <td>0.033037</td>\n",
       "    </tr>\n",
       "    <tr>\n",
       "      <th>mobile_home_ind</th>\n",
       "      <td>99.934768</td>\n",
       "      <td>object</td>\n",
       "      <td>1.0</td>\n",
       "      <td>NaN</td>\n",
       "      <td>0.000023</td>\n",
       "    </tr>\n",
       "    <tr>\n",
       "      <th>timeshare_ind</th>\n",
       "      <td>99.997303</td>\n",
       "      <td>object</td>\n",
       "      <td>1.0</td>\n",
       "      <td>NaN</td>\n",
       "      <td>0.000023</td>\n",
       "    </tr>\n",
       "    <tr>\n",
       "      <th>acres</th>\n",
       "      <td>0.000000</td>\n",
       "      <td>float64</td>\n",
       "      <td>NaN</td>\n",
       "      <td>16.955742</td>\n",
       "      <td>NaN</td>\n",
       "    </tr>\n",
       "    <tr>\n",
       "      <th>land_square_footage</th>\n",
       "      <td>0.000000</td>\n",
       "      <td>float64</td>\n",
       "      <td>NaN</td>\n",
       "      <td>16.955742</td>\n",
       "      <td>NaN</td>\n",
       "    </tr>\n",
       "    <tr>\n",
       "      <th>irregular_lot_flg</th>\n",
       "      <td>100.000000</td>\n",
       "      <td>object</td>\n",
       "      <td>0.0</td>\n",
       "      <td>NaN</td>\n",
       "      <td>0.000000</td>\n",
       "    </tr>\n",
       "    <tr>\n",
       "      <th>assessed_total_value</th>\n",
       "      <td>0.000000</td>\n",
       "      <td>float64</td>\n",
       "      <td>NaN</td>\n",
       "      <td>0.547806</td>\n",
       "      <td>NaN</td>\n",
       "    </tr>\n",
       "    <tr>\n",
       "      <th>assessed_land_value</th>\n",
       "      <td>0.000000</td>\n",
       "      <td>float64</td>\n",
       "      <td>NaN</td>\n",
       "      <td>24.113514</td>\n",
       "      <td>NaN</td>\n",
       "    </tr>\n",
       "    <tr>\n",
       "      <th>assessed_improvement_value</th>\n",
       "      <td>0.000000</td>\n",
       "      <td>float64</td>\n",
       "      <td>NaN</td>\n",
       "      <td>3.001052</td>\n",
       "      <td>NaN</td>\n",
       "    </tr>\n",
       "    <tr>\n",
       "      <th>market_total_value</th>\n",
       "      <td>0.000000</td>\n",
       "      <td>float64</td>\n",
       "      <td>NaN</td>\n",
       "      <td>100.000000</td>\n",
       "      <td>NaN</td>\n",
       "    </tr>\n",
       "    <tr>\n",
       "      <th>market_land_value</th>\n",
       "      <td>0.000000</td>\n",
       "      <td>float64</td>\n",
       "      <td>NaN</td>\n",
       "      <td>100.000000</td>\n",
       "      <td>NaN</td>\n",
       "    </tr>\n",
       "    <tr>\n",
       "      <th>market_improvement_value</th>\n",
       "      <td>0.000000</td>\n",
       "      <td>float64</td>\n",
       "      <td>NaN</td>\n",
       "      <td>100.000000</td>\n",
       "      <td>NaN</td>\n",
       "    </tr>\n",
       "    <tr>\n",
       "      <th>tax_amt</th>\n",
       "      <td>0.000000</td>\n",
       "      <td>float64</td>\n",
       "      <td>NaN</td>\n",
       "      <td>12.736121</td>\n",
       "      <td>NaN</td>\n",
       "    </tr>\n",
       "    <tr>\n",
       "      <th>tax_year</th>\n",
       "      <td>0.000000</td>\n",
       "      <td>int16</td>\n",
       "      <td>NaN</td>\n",
       "      <td>0.000000</td>\n",
       "      <td>NaN</td>\n",
       "    </tr>\n",
       "    <tr>\n",
       "      <th>delinquent_tax_year</th>\n",
       "      <td>0.000000</td>\n",
       "      <td>int16</td>\n",
       "      <td>NaN</td>\n",
       "      <td>99.470926</td>\n",
       "      <td>NaN</td>\n",
       "    </tr>\n",
       "    <tr>\n",
       "      <th>assessed_year</th>\n",
       "      <td>0.000000</td>\n",
       "      <td>int16</td>\n",
       "      <td>NaN</td>\n",
       "      <td>0.000000</td>\n",
       "      <td>NaN</td>\n",
       "    </tr>\n",
       "    <tr>\n",
       "      <th>tax_cd_area</th>\n",
       "      <td>100.000000</td>\n",
       "      <td>object</td>\n",
       "      <td>0.0</td>\n",
       "      <td>NaN</td>\n",
       "      <td>0.000000</td>\n",
       "    </tr>\n",
       "    <tr>\n",
       "      <th>building_square_feet</th>\n",
       "      <td>0.000000</td>\n",
       "      <td>float64</td>\n",
       "      <td>NaN</td>\n",
       "      <td>3.827206</td>\n",
       "      <td>NaN</td>\n",
       "    </tr>\n",
       "    <tr>\n",
       "      <th>total_living_square_feet</th>\n",
       "      <td>0.000000</td>\n",
       "      <td>float64</td>\n",
       "      <td>NaN</td>\n",
       "      <td>7.844060</td>\n",
       "      <td>NaN</td>\n",
       "    </tr>\n",
       "    <tr>\n",
       "      <th>total_ground_floor_square_feet</th>\n",
       "      <td>0.000000</td>\n",
       "      <td>float64</td>\n",
       "      <td>NaN</td>\n",
       "      <td>83.986082</td>\n",
       "      <td>NaN</td>\n",
       "    </tr>\n",
       "    <tr>\n",
       "      <th>total_basement_square_feet</th>\n",
       "      <td>0.000000</td>\n",
       "      <td>float64</td>\n",
       "      <td>NaN</td>\n",
       "      <td>60.116952</td>\n",
       "      <td>NaN</td>\n",
       "    </tr>\n",
       "    <tr>\n",
       "      <th>total_garage_parking_square_feet</th>\n",
       "      <td>0.000000</td>\n",
       "      <td>float64</td>\n",
       "      <td>NaN</td>\n",
       "      <td>100.000000</td>\n",
       "      <td>NaN</td>\n",
       "    </tr>\n",
       "    <tr>\n",
       "      <th>year_built</th>\n",
       "      <td>0.000000</td>\n",
       "      <td>int16</td>\n",
       "      <td>NaN</td>\n",
       "      <td>4.370421</td>\n",
       "      <td>NaN</td>\n",
       "    </tr>\n",
       "    <tr>\n",
       "      <th>effective_year_built</th>\n",
       "      <td>0.000000</td>\n",
       "      <td>int16</td>\n",
       "      <td>NaN</td>\n",
       "      <td>4.371441</td>\n",
       "      <td>NaN</td>\n",
       "    </tr>\n",
       "    <tr>\n",
       "      <th>bedrooms</th>\n",
       "      <td>0.000000</td>\n",
       "      <td>int16</td>\n",
       "      <td>NaN</td>\n",
       "      <td>9.407523</td>\n",
       "      <td>NaN</td>\n",
       "    </tr>\n",
       "    <tr>\n",
       "      <th>total_rooms</th>\n",
       "      <td>0.000000</td>\n",
       "      <td>int16</td>\n",
       "      <td>NaN</td>\n",
       "      <td>10.977035</td>\n",
       "      <td>NaN</td>\n",
       "    </tr>\n",
       "    <tr>\n",
       "      <th>total_baths_calculated</th>\n",
       "      <td>0.000000</td>\n",
       "      <td>float64</td>\n",
       "      <td>NaN</td>\n",
       "      <td>8.871597</td>\n",
       "      <td>NaN</td>\n",
       "    </tr>\n",
       "    <tr>\n",
       "      <th>air_conditioning</th>\n",
       "      <td>58.768865</td>\n",
       "      <td>object</td>\n",
       "      <td>1.0</td>\n",
       "      <td>NaN</td>\n",
       "      <td>0.000023</td>\n",
       "    </tr>\n",
       "    <tr>\n",
       "      <th>basement_cd</th>\n",
       "      <td>44.535608</td>\n",
       "      <td>object</td>\n",
       "      <td>6.0</td>\n",
       "      <td>NaN</td>\n",
       "      <td>0.000136</td>\n",
       "    </tr>\n",
       "    <tr>\n",
       "      <th>condition</th>\n",
       "      <td>9.801468</td>\n",
       "      <td>object</td>\n",
       "      <td>6.0</td>\n",
       "      <td>NaN</td>\n",
       "      <td>0.000136</td>\n",
       "    </tr>\n",
       "    <tr>\n",
       "      <th>construction_type</th>\n",
       "      <td>48.787444</td>\n",
       "      <td>object</td>\n",
       "      <td>7.0</td>\n",
       "      <td>NaN</td>\n",
       "      <td>0.000159</td>\n",
       "    </tr>\n",
       "    <tr>\n",
       "      <th>fireplace_num</th>\n",
       "      <td>0.000000</td>\n",
       "      <td>float64</td>\n",
       "      <td>NaN</td>\n",
       "      <td>65.746393</td>\n",
       "      <td>NaN</td>\n",
       "    </tr>\n",
       "    <tr>\n",
       "      <th>garage_type</th>\n",
       "      <td>99.975073</td>\n",
       "      <td>object</td>\n",
       "      <td>4.0</td>\n",
       "      <td>NaN</td>\n",
       "      <td>0.000091</td>\n",
       "    </tr>\n",
       "    <tr>\n",
       "      <th>heating_type</th>\n",
       "      <td>4.917133</td>\n",
       "      <td>object</td>\n",
       "      <td>17.0</td>\n",
       "      <td>NaN</td>\n",
       "      <td>0.000385</td>\n",
       "    </tr>\n",
       "    <tr>\n",
       "      <th>construction_quality</th>\n",
       "      <td>100.000000</td>\n",
       "      <td>object</td>\n",
       "      <td>0.0</td>\n",
       "      <td>NaN</td>\n",
       "      <td>0.000000</td>\n",
       "    </tr>\n",
       "    <tr>\n",
       "      <th>roof_cover</th>\n",
       "      <td>24.722544</td>\n",
       "      <td>object</td>\n",
       "      <td>11.0</td>\n",
       "      <td>NaN</td>\n",
       "      <td>0.000249</td>\n",
       "    </tr>\n",
       "    <tr>\n",
       "      <th>roof_type</th>\n",
       "      <td>23.392460</td>\n",
       "      <td>object</td>\n",
       "      <td>8.0</td>\n",
       "      <td>NaN</td>\n",
       "      <td>0.000181</td>\n",
       "    </tr>\n",
       "    <tr>\n",
       "      <th>stories_cd</th>\n",
       "      <td>7.633276</td>\n",
       "      <td>object</td>\n",
       "      <td>41.0</td>\n",
       "      <td>NaN</td>\n",
       "      <td>0.000929</td>\n",
       "    </tr>\n",
       "    <tr>\n",
       "      <th>style</th>\n",
       "      <td>9.008257</td>\n",
       "      <td>object</td>\n",
       "      <td>24.0</td>\n",
       "      <td>NaN</td>\n",
       "      <td>0.000544</td>\n",
       "    </tr>\n",
       "    <tr>\n",
       "      <th>geocode_latitude</th>\n",
       "      <td>10.511152</td>\n",
       "      <td>float64</td>\n",
       "      <td>NaN</td>\n",
       "      <td>0.000000</td>\n",
       "      <td>NaN</td>\n",
       "    </tr>\n",
       "    <tr>\n",
       "      <th>geocode_longitude</th>\n",
       "      <td>10.511152</td>\n",
       "      <td>float64</td>\n",
       "      <td>NaN</td>\n",
       "      <td>0.000000</td>\n",
       "      <td>NaN</td>\n",
       "    </tr>\n",
       "    <tr>\n",
       "      <th>first_mtg_amt</th>\n",
       "      <td>0.876446</td>\n",
       "      <td>float64</td>\n",
       "      <td>NaN</td>\n",
       "      <td>28.198152</td>\n",
       "      <td>NaN</td>\n",
       "    </tr>\n",
       "    <tr>\n",
       "      <th>distressed_sale_flg</th>\n",
       "      <td>10.611296</td>\n",
       "      <td>object</td>\n",
       "      <td>1.0</td>\n",
       "      <td>NaN</td>\n",
       "      <td>0.000023</td>\n",
       "    </tr>\n",
       "    <tr>\n",
       "      <th>sale_amt</th>\n",
       "      <td>0.000000</td>\n",
       "      <td>float64</td>\n",
       "      <td>NaN</td>\n",
       "      <td>0.000000</td>\n",
       "      <td>NaN</td>\n",
       "    </tr>\n",
       "    <tr>\n",
       "      <th>transaction_dt</th>\n",
       "      <td>0.000000</td>\n",
       "      <td>int64</td>\n",
       "      <td>NaN</td>\n",
       "      <td>0.000000</td>\n",
       "      <td>NaN</td>\n",
       "    </tr>\n",
       "    <tr>\n",
       "      <th>transaction_year</th>\n",
       "      <td>0.000000</td>\n",
       "      <td>int64</td>\n",
       "      <td>NaN</td>\n",
       "      <td>0.000000</td>\n",
       "      <td>NaN</td>\n",
       "    </tr>\n",
       "  </tbody>\n",
       "</table>\n",
       "</div>"
      ],
      "text/plain": [
       "                                  missing_ratio         ...         number_unique_ratio\n",
       "fips_cd                                0.000000         ...                    0.000317\n",
       "apn                                    0.000000         ...                   20.552627\n",
       "prop_house_number                      0.642994         ...                    0.179597\n",
       "prop_house_number_2                   99.999563         ...                    0.000023\n",
       "prop_house_number_suffix             100.000000         ...                    0.000000\n",
       "prop_direction_left                   96.869796         ...                    0.000181\n",
       "prop_street_name                       0.005831         ...                    0.580779\n",
       "prop_suffix                            0.997362         ...                    0.002198\n",
       "prop_direction_right                  99.660282         ...                    0.000113\n",
       "prop_unit_type                        82.831579         ...                    0.000566\n",
       "prop_unit_number                      82.834130         ...                    0.159770\n",
       "prop_city                              0.000729         ...                    0.010718\n",
       "prop_state                             0.000000         ...                    0.000023\n",
       "prop_zip_code                          0.001239         ...                    0.011783\n",
       "prop_zip_plus_4                        4.080847         ...                    0.198721\n",
       "dwelling_type                          0.002041         ...                    0.002696\n",
       "zoning                                42.959682         ...                    0.025310\n",
       "census_tract                           4.581788         ...                    0.033037\n",
       "mobile_home_ind                       99.934768         ...                    0.000023\n",
       "timeshare_ind                         99.997303         ...                    0.000023\n",
       "acres                                  0.000000         ...                         NaN\n",
       "land_square_footage                    0.000000         ...                         NaN\n",
       "irregular_lot_flg                    100.000000         ...                    0.000000\n",
       "assessed_total_value                   0.000000         ...                         NaN\n",
       "assessed_land_value                    0.000000         ...                         NaN\n",
       "assessed_improvement_value             0.000000         ...                         NaN\n",
       "market_total_value                     0.000000         ...                         NaN\n",
       "market_land_value                      0.000000         ...                         NaN\n",
       "market_improvement_value               0.000000         ...                         NaN\n",
       "tax_amt                                0.000000         ...                         NaN\n",
       "tax_year                               0.000000         ...                         NaN\n",
       "delinquent_tax_year                    0.000000         ...                         NaN\n",
       "assessed_year                          0.000000         ...                         NaN\n",
       "tax_cd_area                          100.000000         ...                    0.000000\n",
       "building_square_feet                   0.000000         ...                         NaN\n",
       "total_living_square_feet               0.000000         ...                         NaN\n",
       "total_ground_floor_square_feet         0.000000         ...                         NaN\n",
       "total_basement_square_feet             0.000000         ...                         NaN\n",
       "total_garage_parking_square_feet       0.000000         ...                         NaN\n",
       "year_built                             0.000000         ...                         NaN\n",
       "effective_year_built                   0.000000         ...                         NaN\n",
       "bedrooms                               0.000000         ...                         NaN\n",
       "total_rooms                            0.000000         ...                         NaN\n",
       "total_baths_calculated                 0.000000         ...                         NaN\n",
       "air_conditioning                      58.768865         ...                    0.000023\n",
       "basement_cd                           44.535608         ...                    0.000136\n",
       "condition                              9.801468         ...                    0.000136\n",
       "construction_type                     48.787444         ...                    0.000159\n",
       "fireplace_num                          0.000000         ...                         NaN\n",
       "garage_type                           99.975073         ...                    0.000091\n",
       "heating_type                           4.917133         ...                    0.000385\n",
       "construction_quality                 100.000000         ...                    0.000000\n",
       "roof_cover                            24.722544         ...                    0.000249\n",
       "roof_type                             23.392460         ...                    0.000181\n",
       "stories_cd                             7.633276         ...                    0.000929\n",
       "style                                  9.008257         ...                    0.000544\n",
       "geocode_latitude                      10.511152         ...                         NaN\n",
       "geocode_longitude                     10.511152         ...                         NaN\n",
       "first_mtg_amt                          0.876446         ...                         NaN\n",
       "distressed_sale_flg                   10.611296         ...                    0.000023\n",
       "sale_amt                               0.000000         ...                         NaN\n",
       "transaction_dt                         0.000000         ...                         NaN\n",
       "transaction_year                       0.000000         ...                         NaN\n",
       "\n",
       "[63 rows x 5 columns]"
      ]
     },
     "execution_count": 14,
     "metadata": {},
     "output_type": "execute_result"
    }
   ],
   "source": [
    "dataMAdesc = pd.DataFrame((dataMA.isnull().sum() / len(dataMA)) * 100, columns = ['missing_ratio'])\n",
    "dataMAdesc['data_type'] = dataMA.dtypes\n",
    "dataMAdesc['number_unique'] = np.nan\n",
    "dataMAdesc['zeros_ratio'] = np.nan\n",
    "for col in dataMA.columns:\n",
    "    if (dataMAdesc['data_type'].loc[col] == 'object'):\n",
    "        dataMAdesc.loc[[col],['number_unique']] = len(dataMA[col].value_counts())\n",
    "    else:\n",
    "        dataMAdesc.loc[[col],['zeros_ratio']] = sum(dataMA[col] == 0)/len(dataMA)*100\n",
    "dataMAdesc['number_unique_ratio'] = dataMAdesc['number_unique']/len(data)*100\n",
    "dataMAdesc"
   ]
  },
  {
   "cell_type": "code",
   "execution_count": 15,
   "metadata": {},
   "outputs": [],
   "source": [
    "# large missing ratio\n",
    "columns_to_drop = ['prop_house_number_2', 'prop_house_number_suffix', 'prop_direction_left','prop_direction_right',\n",
    "                   'irregular_lot_flg','tax_cd_area','prop_unit_number','prop_unit_type','mobile_home_ind','timeshare_ind',\n",
    "                   'garage_type','construction_quality']\n",
    "# only zeros in the columns\n",
    "columns_to_drop2 = ['market_total_value','market_improvement_value','market_land_value','total_garage_parking_square_feet']\n",
    "# too many unique values and not helpful with predictions\n",
    "columns_to_drop4 = ['apn','prop_house_number','prop_street_name','prop_suffix','prop_zip_plus_4']"
   ]
  },
  {
   "cell_type": "code",
   "execution_count": 16,
   "metadata": {},
   "outputs": [],
   "source": [
    "for col in columns_to_drop:\n",
    "    dataMA.drop(col,axis = 1,inplace = True)\n",
    "for col in columns_to_drop2:\n",
    "    dataMA.drop(col,axis = 1,inplace = True)\n",
    "for col in columns_to_drop4:\n",
    "    dataMA.drop(col,axis = 1,inplace = True)"
   ]
  },
  {
   "cell_type": "code",
   "execution_count": 17,
   "metadata": {},
   "outputs": [
    {
     "data": {
      "text/plain": [
       "(1372019, 42)"
      ]
     },
     "execution_count": 17,
     "metadata": {},
     "output_type": "execute_result"
    }
   ],
   "source": [
    "dataMA.shape"
   ]
  },
  {
   "cell_type": "code",
   "execution_count": 18,
   "metadata": {},
   "outputs": [
    {
     "data": {
      "image/png": "[encoded data removed]",
      "text/plain": [
       "<Figure size 432x288 with 2 Axes>"
      ]
     },
     "metadata": {},
     "output_type": "display_data"
    }
   ],
   "source": [
    "# 'census_tract', 'zoning' are all location related. I would like to see the correlation between them.\n",
    "dataMAnew = pd.DataFrame()\n",
    "dataMAnew['census_tract'] = pd.factorize(dataMA['census_tract'])[0]\n",
    "dataMAnew['zoning'] = pd.factorize(dataMA['zoning'])[0]\n",
    "dataMAnew['sale_amt'] = pd.factorize(dataMA['sale_amt'])[0]\n",
    "corrmat = dataMAnew.corr()\n",
    "plt.figure()\n",
    "g = sns.heatmap(corrmat,cmap=\"RdYlGn\",annot=True)"
   ]
  },
  {
   "cell_type": "code",
   "execution_count": 19,
   "metadata": {},
   "outputs": [
    {
     "data": {
      "image/png": "[encoded data removed]",
      "text/plain": [
       "<Figure size 432x288 with 1 Axes>"
      ]
     },
     "metadata": {},
     "output_type": "display_data"
    }
   ],
   "source": [
    "plt.scatter(dataMA['acres'],dataMA['land_square_footage'])\n",
    "plt.xlim([0, 1300])\n",
    "plt.ylim([0, 5*10000000])\n",
    "plt.show()"
   ]
  },
  {
   "cell_type": "code",
   "execution_count": 20,
   "metadata": {},
   "outputs": [],
   "source": [
    "# There is linear relation between 'acres' and 'land_square_footage'. Drop 'acres'\n",
    "dataMA.drop('acres',axis = 1,inplace = True)\n",
    "dataMA.drop('prop_state',axis = 1,inplace = True)"
   ]
  },
  {
   "cell_type": "code",
   "execution_count": 21,
   "metadata": {},
   "outputs": [
    {
     "data": {
      "image/png": "[encoded data removed]",
      "text/plain": [
       "<Figure size 432x288 with 1 Axes>"
      ]
     },
     "metadata": {},
     "output_type": "display_data"
    }
   ],
   "source": [
    "plt.scatter(dataMA['assessed_total_value'],dataMA['assessed_land_value'])\n",
    "plt.show()"
   ]
  },
  {
   "cell_type": "code",
   "execution_count": 22,
   "metadata": {
    "_kg_hide-input": false
   },
   "outputs": [
    {
     "data": {
      "image/png": "[encoded data removed]",
      "text/plain": [
       "<Figure size 432x288 with 1 Axes>"
      ]
     },
     "metadata": {},
     "output_type": "display_data"
    }
   ],
   "source": [
    "plt.scatter(dataMA['assessed_total_value'],dataMA['assessed_improvement_value'])\n",
    "plt.show()"
   ]
  },
  {
   "cell_type": "markdown",
   "metadata": {},
   "source": [
    "There are some correlations between 'assessed_total_value' and 'assessed_land_value'. But it is not simple linear relation. I would keep both of them. Same argument holds for 'assessed_total_value' and 'assessed_improvement_value'."
   ]
  },
  {
   "cell_type": "code",
   "execution_count": 23,
   "metadata": {},
   "outputs": [],
   "source": [
    "numeric_feats = dataMA.dtypes[dataMA.dtypes != \"object\"].index\n",
    "for col in numeric_feats:\n",
    "    #print(col)\n",
    "    if col != 'geocode_longitude':\n",
    "        dataMA[col] = np.log1p(dataMA[col])\n",
    "    else:\n",
    "        dataMA[col] = np.log1p(dataMA[col] - min(dataMA[col]))"
   ]
  },
  {
   "cell_type": "code",
   "execution_count": 24,
   "metadata": {},
   "outputs": [
    {
     "data": {
      "image/png": "[encoded data removed]",
      "text/plain": [
       "<Figure size 1152x2016 with 24 Axes>"
      ]
     },
     "metadata": {},
     "output_type": "display_data"
    }
   ],
   "source": [
    "def plot_images(imgs, labels, cols=3):\n",
    "    # Set figure to 13 inches x 8 inches\n",
    "\n",
    "    rows = len(imgs) // cols + 1\n",
    "    figure = plt.figure(figsize=(16, 4*rows))\n",
    "    for i in range(len(imgs)):\n",
    "        subplot = figure.add_subplot(rows, cols, i + 1)\n",
    "        #subplot.axis('Off')\n",
    "        if labels:\n",
    "            subplot.set_title(labels[i], fontsize=14)\n",
    "        subplot.hist(imgs[i])\n",
    "\n",
    "#plot_images(plt.hist(np.log1p(data[numeric_feats[1]])), [])\n",
    "imgs = []       \n",
    "labels = []\n",
    "for col in numeric_feats:\n",
    "    imgs.append(dataMA[col])\n",
    "    labels.append(col)\n",
    "plot_images(imgs, labels, cols=4)"
   ]
  },
  {
   "cell_type": "code",
   "execution_count": 25,
   "metadata": {},
   "outputs": [
    {
     "data": {
      "image/png": "[encoded data removed]",
      "text/plain": [
       "<Figure size 432x288 with 2 Axes>"
      ]
     },
     "metadata": {},
     "output_type": "display_data"
    }
   ],
   "source": [
    "corrmat = dataMA[['total_rooms','bedrooms','total_baths_calculated']].corr()\n",
    "plt.figure()\n",
    "g = sns.heatmap(corrmat,cmap=\"RdYlGn\",annot=True)"
   ]
  },
  {
   "cell_type": "code",
   "execution_count": 26,
   "metadata": {},
   "outputs": [
    {
     "name": "stdout",
     "output_type": "stream",
     "text": [
      "land_square_footage 0.8304425813345151\n",
      "assessed_total_value 0.825395275138318\n",
      "assessed_land_value 0.7585448889556194\n",
      "assessed_improvement_value 0.7343061575677888\n",
      "building_square_feet 0.721813619199151\n",
      "total_rooms 0.6676452731339726\n"
     ]
    }
   ],
   "source": [
    "# for some of the columns, it does not make sense to have zero values. I will try to delete those rows.\n",
    "columns = ['land_square_footage', 'assessed_total_value', 'assessed_land_value', 'assessed_improvement_value',\n",
    "          'building_square_feet', 'total_rooms']\n",
    "data_new = dataMA.copy()\n",
    "\n",
    "for col in columns:\n",
    "    data_new[col] = data_new[col].where(data_new[col] > 0, np.nan)\n",
    "    data_new.dropna(subset=[col], inplace = True, axis = 0)\n",
    "    print(col, len(data_new)/len(dataMA))\n",
    "\n",
    "data_new.drop(data_new[(data_new['year_built'] == 0) & (data_new['effective_year_built'] == 0)].index, inplace = True)"
   ]
  },
  {
   "cell_type": "code",
   "execution_count": 27,
   "metadata": {},
   "outputs": [
    {
     "name": "stdout",
     "output_type": "stream",
     "text": [
      "geocode_latitude\n",
      "geocode_longitude\n",
      "first_mtg_amt\n"
     ]
    }
   ],
   "source": [
    "# Fill the nan in the numeric columns with mean of the column.\n",
    "numeric_feats = data_new.dtypes[dataMA.dtypes != \"object\"].index\n",
    "for col in numeric_feats:\n",
    "    if data_new[col].isnull().sum() > 0:\n",
    "        print(col)\n",
    "        data_new[col].fillna((data_new[col].mean()))"
   ]
  },
  {
   "cell_type": "markdown",
   "metadata": {},
   "source": [
    "### split data into train and test datasets"
   ]
  },
  {
   "cell_type": "code",
   "execution_count": 28,
   "metadata": {},
   "outputs": [],
   "source": [
    "# The data is splitted by date. Entries before 2018-10-01 is training data and after 2018-10-01 is test data.\n",
    "checkdate = pd.to_datetime('2018-10-01')\n",
    "datetimediff = np.log1p((checkdate - mindatetime).days)\n",
    "\n",
    "checkdateend = pd.to_datetime('2018-12-31')\n",
    "datetimeenddiff = np.log1p((checkdateend - mindatetime).days)\n",
    "testset = data_new[(data_new['transaction_dt'] >= datetimediff)&(data_new['transaction_dt'] < datetimeenddiff)]\n",
    "trainset = data_new[data_new['transaction_dt'] < datetimediff]\n",
    "\n",
    "train_X = trainset.copy()\n",
    "train_X.drop('sale_amt',axis = 1, inplace = True)\n",
    "train_Y = trainset['sale_amt']\n",
    "\n",
    "test_X = testset.copy()\n",
    "test_X.drop('sale_amt',axis = 1, inplace = True)\n",
    "test_Y = testset['sale_amt']"
   ]
  },
  {
   "cell_type": "code",
   "execution_count": 29,
   "metadata": {},
   "outputs": [
    {
     "data": {
      "text/plain": [
       "((889553, 39), (19373, 39))"
      ]
     },
     "execution_count": 29,
     "metadata": {},
     "output_type": "execute_result"
    }
   ],
   "source": [
    "train_X.shape,test_X.shape"
   ]
  },
  {
   "cell_type": "code",
   "execution_count": 30,
   "metadata": {},
   "outputs": [],
   "source": [
    "N1 = len(train_X)\n",
    "indices = np.arange(len(trainset))\n",
    "selind = random.sample(list(indices), N1)\n",
    "train_X_use = train_X.iloc[selind]\n",
    "train_Y_use = train_Y.iloc[selind]"
   ]
  },
  {
   "cell_type": "code",
   "execution_count": 31,
   "metadata": {},
   "outputs": [],
   "source": [
    "N2 = len(test_X)\n",
    "indices = np.arange(len(testset))\n",
    "selind = random.sample(list(indices), N2)\n",
    "test_X_use = test_X.iloc[selind]\n",
    "test_Y_use = test_Y.iloc[selind]"
   ]
  },
  {
   "cell_type": "code",
   "execution_count": 32,
   "metadata": {},
   "outputs": [],
   "source": [
    "# factorize the categorical columns. For columns with too many unique values, get_dummies would result in dataset with too \n",
    "# many columns. I just used factorize to transform these columns. For other columns, I used get_dummies to do the \n",
    "# transformation.\n",
    "\n",
    "feats = ['prop_city','prop_zip_code','census_tract','zoning']\n",
    "cat_feats = list(train_X_use.dtypes[train_X_use.dtypes == \"object\"].index)\n",
    "train_test = pd.concat([train_X_use, test_X_use], ignore_index=True)\n",
    "for col in feats:\n",
    "    train_test[col] = pd.factorize(train_test[col], sort = True)[0]\n",
    "    cat_feats.remove(col)\n",
    "train_test = pd.get_dummies(train_test, dummy_na = 'True', prefix = cat_feats)\n",
    "#train_test = RobustScaler().fit_transform(train_test)\n",
    "# RobustScaler is not quite helpful for random forest model."
   ]
  },
  {
   "cell_type": "code",
   "execution_count": 33,
   "metadata": {},
   "outputs": [
    {
     "data": {
      "text/plain": [
       "(889553, 233)"
      ]
     },
     "execution_count": 33,
     "metadata": {},
     "output_type": "execute_result"
    }
   ],
   "source": [
    "train_X_use = train_test[:N1]\n",
    "test_X_use = train_test[N1:]\n",
    "train_X_use.shape"
   ]
  },
  {
   "cell_type": "code",
   "execution_count": 34,
   "metadata": {},
   "outputs": [],
   "source": [
    "from lightgbm import LGBMRegressor\n",
    "\n",
    "lightgbm = LGBMRegressor(objective='regression', \n",
    "                                       num_leaves=40,#4, 10, 20, 30, 50, 80\n",
    "                                       learning_rate=0.01, #0.01, 0.002\n",
    "                                       n_estimators=5000,\n",
    "                                       max_bin=1000, # 200\n",
    "                                       bagging_fraction=0.75,\n",
    "                                       bagging_freq=5, \n",
    "                                       bagging_seed=7,\n",
    "                                       feature_fraction=0.8, #0.2\n",
    "                                       feature_fraction_seed=7,\n",
    "                                       verbose=-1,\n",
    "                                       )\n",
    "lightgbm.fit(train_X_use, train_Y_use)\n",
    "\n",
    "y_predict = lightgbm.predict(test_X_use)\n",
    "train_pre = lightgbm.predict(train_X_use)"
   ]
  },
  {
   "cell_type": "markdown",
   "metadata": {},
   "source": [
    "#### Results"
   ]
  },
  {
   "cell_type": "code",
   "execution_count": 35,
   "metadata": {},
   "outputs": [
    {
     "name": "stdout",
     "output_type": "stream",
     "text": [
      "train 0.495297076171965\n",
      "test 0.5291384917152738\n"
     ]
    }
   ],
   "source": [
    "# Results are shown for the percentage that the prediction is within 10% error of the true trading prices. \n",
    "\n",
    "thresh = 0.1\n",
    "pererror = []\n",
    "counts = 0\n",
    "labels = list(train_Y_use)\n",
    "for i in range(len(train_pre)):\n",
    "    pererror.append((np.expm1(train_pre[i])-np.expm1(labels[i]))/np.expm1(labels[i]))\n",
    "    if np.abs(pererror[i]) < thresh:\n",
    "        counts += 1\n",
    "print('train', counts/len(train_pre))\n",
    "\n",
    "pererror = []\n",
    "counts = 0\n",
    "labels = list(test_Y_use)\n",
    "for i in range(len(y_predict)):\n",
    "    pererror.append((np.expm1(y_predict[i])-np.expm1(labels[i]))/np.expm1(labels[i]))\n",
    "    if np.abs(pererror[i]) < thresh:\n",
    "        counts += 1\n",
    "print('test', counts/len(y_predict))"
   ]
  },
  {
   "cell_type": "markdown",
   "metadata": {},
   "source": [
    "#### Importance of features"
   ]
  },
  {
   "cell_type": "code",
   "execution_count": 36,
   "metadata": {},
   "outputs": [
    {
     "data": {
      "text/plain": [
       "[('transaction_dt', 21478),\n",
       " ('first_mtg_amt', 13938),\n",
       " ('geocode_longitude', 11164),\n",
       " ('land_square_footage', 10897),\n",
       " ('assessed_land_value', 10775),\n",
       " ('geocode_latitude', 10633),\n",
       " ('year_built', 10346),\n",
       " ('assessed_total_value', 9018),\n",
       " ('assessed_improvement_value', 7892),\n",
       " ('census_tract', 7745),\n",
       " ('effective_year_built', 7027),\n",
       " ('building_square_feet', 6640),\n",
       " ('tax_amt', 6356),\n",
       " ('prop_zip_code', 5934),\n",
       " ('distressed_sale_flg_Y', 5746),\n",
       " ('prop_city', 4574),\n",
       " ('zoning', 4225),\n",
       " ('total_basement_square_feet', 3596),\n",
       " ('total_living_square_feet', 3449),\n",
       " ('total_rooms', 3205)]"
      ]
     },
     "execution_count": 36,
     "metadata": {},
     "output_type": "execute_result"
    }
   ],
   "source": [
    "importantce_list = list(zip(train_test.columns, lightgbm.feature_importances_))\n",
    "def takeSecond(elem):\n",
    "    return elem[1]\n",
    "importantce_list.sort(key=takeSecond, reverse=True)\n",
    "importantce_list[:20]"
   ]
  },
  {
   "cell_type": "markdown",
   "metadata": {},
   "source": [
    "#### Histograms of predictions and true prices"
   ]
  },
  {
   "cell_type": "code",
   "execution_count": 37,
   "metadata": {},
   "outputs": [
    {
     "data": {
      "image/png": "[encoded data removed]",
      "text/plain": [
       "<Figure size 432x288 with 3 Axes>"
      ]
     },
     "metadata": {},
     "output_type": "display_data"
    }
   ],
   "source": [
    "labels = list(train_Y_use)\n",
    "#range = (0, 1000000)\n",
    "bins = np.linspace(0,1500000,40)\n",
    "plt.subplot(2, 2, 1)\n",
    "plt.hist(np.expm1(labels),bins= bins)\n",
    "plt.subplot(2, 2, 2)\n",
    "plt.hist(np.expm1(train_pre), bins = bins, color = 'orange')\n",
    "plt.subplot(212)\n",
    "plt.hist(np.expm1(labels),bins= bins)\n",
    "plt.hist(np.expm1(train_pre), bins = bins, color = 'orange')\n",
    "plt.show()"
   ]
  },
  {
   "cell_type": "markdown",
   "metadata": {},
   "source": [
    "## RI data"
   ]
  },
  {
   "cell_type": "code",
   "execution_count": 38,
   "metadata": {
    "_kg_hide-input": false
   },
   "outputs": [
    {
     "data": {
      "text/html": [
       "<div>\n",
       "<style scoped>\n",
       "    .dataframe tbody tr th:only-of-type {\n",
       "        vertical-align: middle;\n",
       "    }\n",
       "\n",
       "    .dataframe tbody tr th {\n",
       "        vertical-align: top;\n",
       "    }\n",
       "\n",
       "    .dataframe thead th {\n",
       "        text-align: right;\n",
       "    }\n",
       "</style>\n",
       "<table border=\"1\" class=\"dataframe\">\n",
       "  <thead>\n",
       "    <tr style=\"text-align: right;\">\n",
       "      <th></th>\n",
       "      <th>missing_ratio</th>\n",
       "      <th>data_type</th>\n",
       "      <th>number_unique</th>\n",
       "      <th>zeros_ratio</th>\n",
       "      <th>number_unique_ratio</th>\n",
       "    </tr>\n",
       "  </thead>\n",
       "  <tbody>\n",
       "    <tr>\n",
       "      <th>fips_cd</th>\n",
       "      <td>0.000000</td>\n",
       "      <td>object</td>\n",
       "      <td>5.0</td>\n",
       "      <td>NaN</td>\n",
       "      <td>1.132962e-06</td>\n",
       "    </tr>\n",
       "    <tr>\n",
       "      <th>apn</th>\n",
       "      <td>0.000000</td>\n",
       "      <td>object</td>\n",
       "      <td>143415.0</td>\n",
       "      <td>NaN</td>\n",
       "      <td>3.249674e-02</td>\n",
       "    </tr>\n",
       "    <tr>\n",
       "      <th>prop_house_number</th>\n",
       "      <td>0.857363</td>\n",
       "      <td>object</td>\n",
       "      <td>4152.0</td>\n",
       "      <td>NaN</td>\n",
       "      <td>9.408114e-04</td>\n",
       "    </tr>\n",
       "    <tr>\n",
       "      <th>prop_house_number_2</th>\n",
       "      <td>99.987503</td>\n",
       "      <td>object</td>\n",
       "      <td>1.0</td>\n",
       "      <td>NaN</td>\n",
       "      <td>2.265923e-07</td>\n",
       "    </tr>\n",
       "    <tr>\n",
       "      <th>prop_house_number_suffix</th>\n",
       "      <td>100.000000</td>\n",
       "      <td>object</td>\n",
       "      <td>0.0</td>\n",
       "      <td>NaN</td>\n",
       "      <td>0.000000e+00</td>\n",
       "    </tr>\n",
       "    <tr>\n",
       "      <th>prop_direction_left</th>\n",
       "      <td>97.572068</td>\n",
       "      <td>object</td>\n",
       "      <td>5.0</td>\n",
       "      <td>NaN</td>\n",
       "      <td>1.132962e-06</td>\n",
       "    </tr>\n",
       "    <tr>\n",
       "      <th>prop_street_name</th>\n",
       "      <td>0.002678</td>\n",
       "      <td>object</td>\n",
       "      <td>7926.0</td>\n",
       "      <td>NaN</td>\n",
       "      <td>1.795971e-03</td>\n",
       "    </tr>\n",
       "    <tr>\n",
       "      <th>prop_suffix</th>\n",
       "      <td>0.576188</td>\n",
       "      <td>object</td>\n",
       "      <td>56.0</td>\n",
       "      <td>NaN</td>\n",
       "      <td>1.268917e-05</td>\n",
       "    </tr>\n",
       "    <tr>\n",
       "      <th>prop_direction_right</th>\n",
       "      <td>99.754529</td>\n",
       "      <td>object</td>\n",
       "      <td>4.0</td>\n",
       "      <td>NaN</td>\n",
       "      <td>9.063693e-07</td>\n",
       "    </tr>\n",
       "    <tr>\n",
       "      <th>prop_unit_type</th>\n",
       "      <td>91.962385</td>\n",
       "      <td>object</td>\n",
       "      <td>11.0</td>\n",
       "      <td>NaN</td>\n",
       "      <td>2.492516e-06</td>\n",
       "    </tr>\n",
       "    <tr>\n",
       "      <th>prop_unit_number</th>\n",
       "      <td>91.964170</td>\n",
       "      <td>object</td>\n",
       "      <td>1707.0</td>\n",
       "      <td>NaN</td>\n",
       "      <td>3.867931e-04</td>\n",
       "    </tr>\n",
       "    <tr>\n",
       "      <th>prop_city</th>\n",
       "      <td>0.000000</td>\n",
       "      <td>object</td>\n",
       "      <td>72.0</td>\n",
       "      <td>NaN</td>\n",
       "      <td>1.631465e-05</td>\n",
       "    </tr>\n",
       "    <tr>\n",
       "      <th>prop_state</th>\n",
       "      <td>0.000000</td>\n",
       "      <td>object</td>\n",
       "      <td>1.0</td>\n",
       "      <td>NaN</td>\n",
       "      <td>2.265923e-07</td>\n",
       "    </tr>\n",
       "    <tr>\n",
       "      <th>prop_zip_code</th>\n",
       "      <td>0.000000</td>\n",
       "      <td>object</td>\n",
       "      <td>81.0</td>\n",
       "      <td>NaN</td>\n",
       "      <td>1.835398e-05</td>\n",
       "    </tr>\n",
       "    <tr>\n",
       "      <th>prop_zip_plus_4</th>\n",
       "      <td>2.289129</td>\n",
       "      <td>object</td>\n",
       "      <td>7444.0</td>\n",
       "      <td>NaN</td>\n",
       "      <td>1.686753e-03</td>\n",
       "    </tr>\n",
       "    <tr>\n",
       "      <th>dwelling_type</th>\n",
       "      <td>0.000000</td>\n",
       "      <td>object</td>\n",
       "      <td>64.0</td>\n",
       "      <td>NaN</td>\n",
       "      <td>1.450191e-05</td>\n",
       "    </tr>\n",
       "    <tr>\n",
       "      <th>zoning</th>\n",
       "      <td>20.910564</td>\n",
       "      <td>object</td>\n",
       "      <td>362.0</td>\n",
       "      <td>NaN</td>\n",
       "      <td>8.202642e-05</td>\n",
       "    </tr>\n",
       "    <tr>\n",
       "      <th>census_tract</th>\n",
       "      <td>2.676527</td>\n",
       "      <td>object</td>\n",
       "      <td>243.0</td>\n",
       "      <td>NaN</td>\n",
       "      <td>5.506194e-05</td>\n",
       "    </tr>\n",
       "    <tr>\n",
       "      <th>mobile_home_ind</th>\n",
       "      <td>99.373379</td>\n",
       "      <td>object</td>\n",
       "      <td>1.0</td>\n",
       "      <td>NaN</td>\n",
       "      <td>2.265923e-07</td>\n",
       "    </tr>\n",
       "    <tr>\n",
       "      <th>timeshare_ind</th>\n",
       "      <td>100.000000</td>\n",
       "      <td>object</td>\n",
       "      <td>0.0</td>\n",
       "      <td>NaN</td>\n",
       "      <td>0.000000e+00</td>\n",
       "    </tr>\n",
       "    <tr>\n",
       "      <th>acres</th>\n",
       "      <td>0.000000</td>\n",
       "      <td>float64</td>\n",
       "      <td>NaN</td>\n",
       "      <td>0.108159</td>\n",
       "      <td>NaN</td>\n",
       "    </tr>\n",
       "    <tr>\n",
       "      <th>land_square_footage</th>\n",
       "      <td>0.000000</td>\n",
       "      <td>float64</td>\n",
       "      <td>NaN</td>\n",
       "      <td>0.108159</td>\n",
       "      <td>NaN</td>\n",
       "    </tr>\n",
       "    <tr>\n",
       "      <th>irregular_lot_flg</th>\n",
       "      <td>100.000000</td>\n",
       "      <td>object</td>\n",
       "      <td>0.0</td>\n",
       "      <td>NaN</td>\n",
       "      <td>0.000000e+00</td>\n",
       "    </tr>\n",
       "    <tr>\n",
       "      <th>assessed_total_value</th>\n",
       "      <td>0.000000</td>\n",
       "      <td>float64</td>\n",
       "      <td>NaN</td>\n",
       "      <td>0.000893</td>\n",
       "      <td>NaN</td>\n",
       "    </tr>\n",
       "    <tr>\n",
       "      <th>assessed_land_value</th>\n",
       "      <td>0.000000</td>\n",
       "      <td>float64</td>\n",
       "      <td>NaN</td>\n",
       "      <td>0.117723</td>\n",
       "      <td>NaN</td>\n",
       "    </tr>\n",
       "    <tr>\n",
       "      <th>assessed_improvement_value</th>\n",
       "      <td>0.000000</td>\n",
       "      <td>float64</td>\n",
       "      <td>NaN</td>\n",
       "      <td>0.028787</td>\n",
       "      <td>NaN</td>\n",
       "    </tr>\n",
       "    <tr>\n",
       "      <th>market_total_value</th>\n",
       "      <td>0.000000</td>\n",
       "      <td>float64</td>\n",
       "      <td>NaN</td>\n",
       "      <td>1.000000</td>\n",
       "      <td>NaN</td>\n",
       "    </tr>\n",
       "    <tr>\n",
       "      <th>market_land_value</th>\n",
       "      <td>0.000000</td>\n",
       "      <td>float64</td>\n",
       "      <td>NaN</td>\n",
       "      <td>1.000000</td>\n",
       "      <td>NaN</td>\n",
       "    </tr>\n",
       "    <tr>\n",
       "      <th>market_improvement_value</th>\n",
       "      <td>0.000000</td>\n",
       "      <td>float64</td>\n",
       "      <td>NaN</td>\n",
       "      <td>1.000000</td>\n",
       "      <td>NaN</td>\n",
       "    </tr>\n",
       "    <tr>\n",
       "      <th>tax_amt</th>\n",
       "      <td>0.000000</td>\n",
       "      <td>float64</td>\n",
       "      <td>NaN</td>\n",
       "      <td>0.023181</td>\n",
       "      <td>NaN</td>\n",
       "    </tr>\n",
       "    <tr>\n",
       "      <th>tax_year</th>\n",
       "      <td>0.000000</td>\n",
       "      <td>int16</td>\n",
       "      <td>NaN</td>\n",
       "      <td>0.000000</td>\n",
       "      <td>NaN</td>\n",
       "    </tr>\n",
       "    <tr>\n",
       "      <th>delinquent_tax_year</th>\n",
       "      <td>0.000000</td>\n",
       "      <td>int16</td>\n",
       "      <td>NaN</td>\n",
       "      <td>1.000000</td>\n",
       "      <td>NaN</td>\n",
       "    </tr>\n",
       "    <tr>\n",
       "      <th>assessed_year</th>\n",
       "      <td>0.000000</td>\n",
       "      <td>int16</td>\n",
       "      <td>NaN</td>\n",
       "      <td>0.000000</td>\n",
       "      <td>NaN</td>\n",
       "    </tr>\n",
       "    <tr>\n",
       "      <th>tax_cd_area</th>\n",
       "      <td>100.000000</td>\n",
       "      <td>object</td>\n",
       "      <td>0.0</td>\n",
       "      <td>NaN</td>\n",
       "      <td>0.000000e+00</td>\n",
       "    </tr>\n",
       "    <tr>\n",
       "      <th>building_square_feet</th>\n",
       "      <td>0.000000</td>\n",
       "      <td>float64</td>\n",
       "      <td>NaN</td>\n",
       "      <td>0.051112</td>\n",
       "      <td>NaN</td>\n",
       "    </tr>\n",
       "    <tr>\n",
       "      <th>total_living_square_feet</th>\n",
       "      <td>0.000000</td>\n",
       "      <td>float64</td>\n",
       "      <td>NaN</td>\n",
       "      <td>0.096225</td>\n",
       "      <td>NaN</td>\n",
       "    </tr>\n",
       "    <tr>\n",
       "      <th>total_ground_floor_square_feet</th>\n",
       "      <td>0.000000</td>\n",
       "      <td>float64</td>\n",
       "      <td>NaN</td>\n",
       "      <td>0.595977</td>\n",
       "      <td>NaN</td>\n",
       "    </tr>\n",
       "    <tr>\n",
       "      <th>total_basement_square_feet</th>\n",
       "      <td>0.000000</td>\n",
       "      <td>float64</td>\n",
       "      <td>NaN</td>\n",
       "      <td>0.451033</td>\n",
       "      <td>NaN</td>\n",
       "    </tr>\n",
       "    <tr>\n",
       "      <th>total_garage_parking_square_feet</th>\n",
       "      <td>0.000000</td>\n",
       "      <td>float64</td>\n",
       "      <td>NaN</td>\n",
       "      <td>1.000000</td>\n",
       "      <td>NaN</td>\n",
       "    </tr>\n",
       "    <tr>\n",
       "      <th>year_built</th>\n",
       "      <td>0.000000</td>\n",
       "      <td>int16</td>\n",
       "      <td>NaN</td>\n",
       "      <td>0.055963</td>\n",
       "      <td>NaN</td>\n",
       "    </tr>\n",
       "    <tr>\n",
       "      <th>effective_year_built</th>\n",
       "      <td>0.000000</td>\n",
       "      <td>int16</td>\n",
       "      <td>NaN</td>\n",
       "      <td>0.055963</td>\n",
       "      <td>NaN</td>\n",
       "    </tr>\n",
       "    <tr>\n",
       "      <th>bedrooms</th>\n",
       "      <td>0.000000</td>\n",
       "      <td>int16</td>\n",
       "      <td>NaN</td>\n",
       "      <td>0.108172</td>\n",
       "      <td>NaN</td>\n",
       "    </tr>\n",
       "    <tr>\n",
       "      <th>total_rooms</th>\n",
       "      <td>0.000000</td>\n",
       "      <td>int16</td>\n",
       "      <td>NaN</td>\n",
       "      <td>0.093020</td>\n",
       "      <td>NaN</td>\n",
       "    </tr>\n",
       "    <tr>\n",
       "      <th>total_baths_calculated</th>\n",
       "      <td>0.000000</td>\n",
       "      <td>float64</td>\n",
       "      <td>NaN</td>\n",
       "      <td>0.107052</td>\n",
       "      <td>NaN</td>\n",
       "    </tr>\n",
       "    <tr>\n",
       "      <th>air_conditioning</th>\n",
       "      <td>66.727960</td>\n",
       "      <td>object</td>\n",
       "      <td>1.0</td>\n",
       "      <td>NaN</td>\n",
       "      <td>2.265923e-07</td>\n",
       "    </tr>\n",
       "    <tr>\n",
       "      <th>basement_cd</th>\n",
       "      <td>29.652011</td>\n",
       "      <td>object</td>\n",
       "      <td>6.0</td>\n",
       "      <td>NaN</td>\n",
       "      <td>1.359554e-06</td>\n",
       "    </tr>\n",
       "    <tr>\n",
       "      <th>condition</th>\n",
       "      <td>5.286554</td>\n",
       "      <td>object</td>\n",
       "      <td>6.0</td>\n",
       "      <td>NaN</td>\n",
       "      <td>1.359554e-06</td>\n",
       "    </tr>\n",
       "    <tr>\n",
       "      <th>construction_type</th>\n",
       "      <td>69.780727</td>\n",
       "      <td>object</td>\n",
       "      <td>5.0</td>\n",
       "      <td>NaN</td>\n",
       "      <td>1.132962e-06</td>\n",
       "    </tr>\n",
       "    <tr>\n",
       "      <th>fireplace_num</th>\n",
       "      <td>0.000000</td>\n",
       "      <td>float64</td>\n",
       "      <td>NaN</td>\n",
       "      <td>0.736752</td>\n",
       "      <td>NaN</td>\n",
       "    </tr>\n",
       "    <tr>\n",
       "      <th>garage_type</th>\n",
       "      <td>100.000000</td>\n",
       "      <td>object</td>\n",
       "      <td>0.0</td>\n",
       "      <td>NaN</td>\n",
       "      <td>0.000000e+00</td>\n",
       "    </tr>\n",
       "    <tr>\n",
       "      <th>heating_type</th>\n",
       "      <td>5.100889</td>\n",
       "      <td>object</td>\n",
       "      <td>16.0</td>\n",
       "      <td>NaN</td>\n",
       "      <td>3.625477e-06</td>\n",
       "    </tr>\n",
       "    <tr>\n",
       "      <th>construction_quality</th>\n",
       "      <td>100.000000</td>\n",
       "      <td>object</td>\n",
       "      <td>0.0</td>\n",
       "      <td>NaN</td>\n",
       "      <td>0.000000e+00</td>\n",
       "    </tr>\n",
       "    <tr>\n",
       "      <th>roof_cover</th>\n",
       "      <td>8.488389</td>\n",
       "      <td>object</td>\n",
       "      <td>10.0</td>\n",
       "      <td>NaN</td>\n",
       "      <td>2.265923e-06</td>\n",
       "    </tr>\n",
       "    <tr>\n",
       "      <th>roof_type</th>\n",
       "      <td>8.932022</td>\n",
       "      <td>object</td>\n",
       "      <td>9.0</td>\n",
       "      <td>NaN</td>\n",
       "      <td>2.039331e-06</td>\n",
       "    </tr>\n",
       "    <tr>\n",
       "      <th>stories_cd</th>\n",
       "      <td>6.279150</td>\n",
       "      <td>object</td>\n",
       "      <td>20.0</td>\n",
       "      <td>NaN</td>\n",
       "      <td>4.531847e-06</td>\n",
       "    </tr>\n",
       "    <tr>\n",
       "      <th>style</th>\n",
       "      <td>10.723515</td>\n",
       "      <td>object</td>\n",
       "      <td>24.0</td>\n",
       "      <td>NaN</td>\n",
       "      <td>5.438216e-06</td>\n",
       "    </tr>\n",
       "    <tr>\n",
       "      <th>geocode_latitude</th>\n",
       "      <td>11.078778</td>\n",
       "      <td>float64</td>\n",
       "      <td>NaN</td>\n",
       "      <td>0.000000</td>\n",
       "      <td>NaN</td>\n",
       "    </tr>\n",
       "    <tr>\n",
       "      <th>geocode_longitude</th>\n",
       "      <td>11.078778</td>\n",
       "      <td>float64</td>\n",
       "      <td>NaN</td>\n",
       "      <td>0.000000</td>\n",
       "      <td>NaN</td>\n",
       "    </tr>\n",
       "    <tr>\n",
       "      <th>first_mtg_amt</th>\n",
       "      <td>0.687765</td>\n",
       "      <td>float64</td>\n",
       "      <td>NaN</td>\n",
       "      <td>0.374508</td>\n",
       "      <td>NaN</td>\n",
       "    </tr>\n",
       "    <tr>\n",
       "      <th>distressed_sale_flg</th>\n",
       "      <td>18.433538</td>\n",
       "      <td>object</td>\n",
       "      <td>1.0</td>\n",
       "      <td>NaN</td>\n",
       "      <td>2.265923e-07</td>\n",
       "    </tr>\n",
       "    <tr>\n",
       "      <th>sale_amt</th>\n",
       "      <td>0.000000</td>\n",
       "      <td>float64</td>\n",
       "      <td>NaN</td>\n",
       "      <td>0.000000</td>\n",
       "      <td>NaN</td>\n",
       "    </tr>\n",
       "    <tr>\n",
       "      <th>transaction_dt</th>\n",
       "      <td>0.000000</td>\n",
       "      <td>int64</td>\n",
       "      <td>NaN</td>\n",
       "      <td>0.000000</td>\n",
       "      <td>NaN</td>\n",
       "    </tr>\n",
       "    <tr>\n",
       "      <th>transaction_year</th>\n",
       "      <td>0.000000</td>\n",
       "      <td>int64</td>\n",
       "      <td>NaN</td>\n",
       "      <td>0.000000</td>\n",
       "      <td>NaN</td>\n",
       "    </tr>\n",
       "  </tbody>\n",
       "</table>\n",
       "</div>"
      ],
      "text/plain": [
       "                                  missing_ratio         ...         number_unique_ratio\n",
       "fips_cd                                0.000000         ...                1.132962e-06\n",
       "apn                                    0.000000         ...                3.249674e-02\n",
       "prop_house_number                      0.857363         ...                9.408114e-04\n",
       "prop_house_number_2                   99.987503         ...                2.265923e-07\n",
       "prop_house_number_suffix             100.000000         ...                0.000000e+00\n",
       "prop_direction_left                   97.572068         ...                1.132962e-06\n",
       "prop_street_name                       0.002678         ...                1.795971e-03\n",
       "prop_suffix                            0.576188         ...                1.268917e-05\n",
       "prop_direction_right                  99.754529         ...                9.063693e-07\n",
       "prop_unit_type                        91.962385         ...                2.492516e-06\n",
       "prop_unit_number                      91.964170         ...                3.867931e-04\n",
       "prop_city                              0.000000         ...                1.631465e-05\n",
       "prop_state                             0.000000         ...                2.265923e-07\n",
       "prop_zip_code                          0.000000         ...                1.835398e-05\n",
       "prop_zip_plus_4                        2.289129         ...                1.686753e-03\n",
       "dwelling_type                          0.000000         ...                1.450191e-05\n",
       "zoning                                20.910564         ...                8.202642e-05\n",
       "census_tract                           2.676527         ...                5.506194e-05\n",
       "mobile_home_ind                       99.373379         ...                2.265923e-07\n",
       "timeshare_ind                        100.000000         ...                0.000000e+00\n",
       "acres                                  0.000000         ...                         NaN\n",
       "land_square_footage                    0.000000         ...                         NaN\n",
       "irregular_lot_flg                    100.000000         ...                0.000000e+00\n",
       "assessed_total_value                   0.000000         ...                         NaN\n",
       "assessed_land_value                    0.000000         ...                         NaN\n",
       "assessed_improvement_value             0.000000         ...                         NaN\n",
       "market_total_value                     0.000000         ...                         NaN\n",
       "market_land_value                      0.000000         ...                         NaN\n",
       "market_improvement_value               0.000000         ...                         NaN\n",
       "tax_amt                                0.000000         ...                         NaN\n",
       "tax_year                               0.000000         ...                         NaN\n",
       "delinquent_tax_year                    0.000000         ...                         NaN\n",
       "assessed_year                          0.000000         ...                         NaN\n",
       "tax_cd_area                          100.000000         ...                0.000000e+00\n",
       "building_square_feet                   0.000000         ...                         NaN\n",
       "total_living_square_feet               0.000000         ...                         NaN\n",
       "total_ground_floor_square_feet         0.000000         ...                         NaN\n",
       "total_basement_square_feet             0.000000         ...                         NaN\n",
       "total_garage_parking_square_feet       0.000000         ...                         NaN\n",
       "year_built                             0.000000         ...                         NaN\n",
       "effective_year_built                   0.000000         ...                         NaN\n",
       "bedrooms                               0.000000         ...                         NaN\n",
       "total_rooms                            0.000000         ...                         NaN\n",
       "total_baths_calculated                 0.000000         ...                         NaN\n",
       "air_conditioning                      66.727960         ...                2.265923e-07\n",
       "basement_cd                           29.652011         ...                1.359554e-06\n",
       "condition                              5.286554         ...                1.359554e-06\n",
       "construction_type                     69.780727         ...                1.132962e-06\n",
       "fireplace_num                          0.000000         ...                         NaN\n",
       "garage_type                          100.000000         ...                0.000000e+00\n",
       "heating_type                           5.100889         ...                3.625477e-06\n",
       "construction_quality                 100.000000         ...                0.000000e+00\n",
       "roof_cover                             8.488389         ...                2.265923e-06\n",
       "roof_type                              8.932022         ...                2.039331e-06\n",
       "stories_cd                             6.279150         ...                4.531847e-06\n",
       "style                                 10.723515         ...                5.438216e-06\n",
       "geocode_latitude                      11.078778         ...                         NaN\n",
       "geocode_longitude                     11.078778         ...                         NaN\n",
       "first_mtg_amt                          0.687765         ...                         NaN\n",
       "distressed_sale_flg                   18.433538         ...                2.265923e-07\n",
       "sale_amt                               0.000000         ...                         NaN\n",
       "transaction_dt                         0.000000         ...                         NaN\n",
       "transaction_year                       0.000000         ...                         NaN\n",
       "\n",
       "[63 rows x 5 columns]"
      ]
     },
     "execution_count": 38,
     "metadata": {},
     "output_type": "execute_result"
    }
   ],
   "source": [
    "dataRIdesc = pd.DataFrame((dataRI.isnull().sum() / len(dataRI)) * 100, columns = ['missing_ratio'])\n",
    "dataRIdesc['data_type'] = dataRI.dtypes\n",
    "dataRIdesc['number_unique'] = np.nan\n",
    "dataRIdesc['zeros_ratio'] = np.nan\n",
    "for col in dataRI.columns:\n",
    "    if (dataRIdesc['data_type'].loc[col] == 'object'):\n",
    "        dataRIdesc.loc[[col],['number_unique']] = len(dataRI[col].value_counts())\n",
    "    else:\n",
    "        dataRIdesc.loc[[col],['zeros_ratio']] = sum(dataRI[col] == 0)/len(dataRI)\n",
    "dataRIdesc['number_unique_ratio'] = dataRIdesc['number_unique']/len(data)\n",
    "dataRIdesc"
   ]
  },
  {
   "cell_type": "code",
   "execution_count": 39,
   "metadata": {
    "_kg_hide-input": false
   },
   "outputs": [],
   "source": [
    "# large missing ratio\n",
    "columns_to_drop = ['prop_house_number_2', 'prop_house_number_suffix', 'prop_direction_left','prop_direction_right',\n",
    "                   'irregular_lot_flg','tax_cd_area','prop_unit_number','prop_unit_type','mobile_home_ind','timeshare_ind',\n",
    "                   'garage_type','construction_quality']\n",
    "# only zeros in the columns\n",
    "columns_to_drop2 = ['market_total_value','market_improvement_value','market_land_value','total_garage_parking_square_feet','delinquent_tax_year']\n",
    "# too many unique values and not helpful with predictions\n",
    "columns_to_drop4 = ['apn','prop_house_number','prop_street_name','prop_suffix','prop_zip_plus_4']"
   ]
  },
  {
   "cell_type": "code",
   "execution_count": 40,
   "metadata": {
    "_kg_hide-input": false
   },
   "outputs": [],
   "source": [
    "for col in columns_to_drop:\n",
    "    dataRI.drop(col,axis = 1,inplace = True)\n",
    "for col in columns_to_drop2:\n",
    "    dataRI.drop(col,axis = 1,inplace = True)\n",
    "for col in columns_to_drop4:\n",
    "    dataRI.drop(col,axis = 1,inplace = True)"
   ]
  },
  {
   "cell_type": "code",
   "execution_count": 41,
   "metadata": {
    "_kg_hide-input": false
   },
   "outputs": [
    {
     "name": "stdout",
     "output_type": "stream",
     "text": [
      "Size of dataRI : (224059, 41)\n"
     ]
    }
   ],
   "source": [
    "print (\"Size of dataRI : {}\" .format(dataRI.shape))"
   ]
  },
  {
   "cell_type": "code",
   "execution_count": 42,
   "metadata": {
    "_kg_hide-input": false
   },
   "outputs": [],
   "source": [
    "dataRI.drop('acres', axis = 1, inplace=True)\n",
    "dataRI.drop('prop_state', axis = 1, inplace=True)"
   ]
  },
  {
   "cell_type": "code",
   "execution_count": 43,
   "metadata": {
    "_kg_hide-input": false
   },
   "outputs": [],
   "source": [
    "numeric_feats = dataRI.dtypes[dataRI.dtypes != \"object\"].index\n",
    "for col in numeric_feats:\n",
    "    #print(col)\n",
    "    if col != 'geocode_longitude':\n",
    "        dataRI[col] = np.log1p(dataRI[col])\n",
    "    else:\n",
    "        dataRI[col] = np.log1p(dataRI[col] - min(dataRI[col]))"
   ]
  },
  {
   "cell_type": "code",
   "execution_count": 44,
   "metadata": {
    "_kg_hide-input": false
   },
   "outputs": [
    {
     "data": {
      "image/png": "[encoded data removed]",
      "text/plain": [
       "<Figure size 1152x1728 with 23 Axes>"
      ]
     },
     "metadata": {},
     "output_type": "display_data"
    }
   ],
   "source": [
    "def plot_images(imgs, labels, cols=3):\n",
    "    # Set figure to 13 inches x 8 inches\n",
    "\n",
    "    rows = len(imgs) // cols + 1\n",
    "    figure = plt.figure(figsize=(16, 4*rows))\n",
    "    for i in range(len(imgs)):\n",
    "        subplot = figure.add_subplot(rows, cols, i + 1)\n",
    "        #subplot.axis('Off')\n",
    "        if labels:\n",
    "            subplot.set_title(labels[i], fontsize=14)\n",
    "        #print(subplot)\n",
    "        subplot.hist(imgs[i])\n",
    "\n",
    "#plot_images(plt.hist(np.log1p(data[numeric_feats[1]])), [])\n",
    "imgs = []       \n",
    "labels = []\n",
    "for col in numeric_feats:\n",
    "    imgs.append(dataRI[col])\n",
    "    labels.append(col)\n",
    "plot_images(imgs, labels, cols=4)"
   ]
  },
  {
   "cell_type": "code",
   "execution_count": 45,
   "metadata": {
    "_kg_hide-input": false
   },
   "outputs": [],
   "source": [
    "# for some of the columns, it does not make sense to have zero values. I will try to delete those rows.\n",
    "columns = ['land_square_footage', 'assessed_total_value', 'assessed_land_value', 'assessed_improvement_value',\n",
    "          'building_square_feet', 'total_rooms']\n",
    "data_new = dataRI.copy()\n",
    "\n",
    "# for col in columns:\n",
    "#     data_new[col] = data_new[col].where(data_new[col] > 0, np.nan)\n",
    "#     data_new.dropna(subset=[col], inplace = True, axis = 0)\n",
    "#     print(len(data_new)/len(dataRI))\n",
    "\n",
    "# data_new.drop(data_new[(data_new['year_built'] == 0) & (data_new['effective_year_built'] == 0)].index, inplace = True)"
   ]
  },
  {
   "cell_type": "code",
   "execution_count": 46,
   "metadata": {},
   "outputs": [
    {
     "name": "stdout",
     "output_type": "stream",
     "text": [
      "geocode_latitude\n",
      "geocode_longitude\n",
      "first_mtg_amt\n"
     ]
    }
   ],
   "source": [
    "numeric_feats = data_new.dtypes[dataMA.dtypes != \"object\"].index\n",
    "for col in numeric_feats:\n",
    "    if data_new[col].isnull().sum() > 0:\n",
    "        print(col)\n",
    "        data_new[col].fillna((data_new[col].mean()),inplace = True)"
   ]
  },
  {
   "cell_type": "code",
   "execution_count": 47,
   "metadata": {},
   "outputs": [],
   "source": [
    "checkdate = pd.to_datetime('2018-10-01')\n",
    "datetimediff = np.log1p((checkdate - mindatetime).days)\n",
    "\n",
    "checkdateend = pd.to_datetime('2018-12-31')\n",
    "datetimeenddiff = np.log1p((checkdateend - mindatetime).days)\n",
    "testset = data_new[(data_new['transaction_dt'] >= datetimediff)&(data_new['transaction_dt'] < datetimeenddiff)]\n",
    "trainset = data_new[data_new['transaction_dt'] < datetimediff]\n",
    "\n",
    "train_X = trainset.copy()\n",
    "train_X.drop('sale_amt',axis = 1, inplace = True)\n",
    "train_Y = trainset['sale_amt']\n",
    "\n",
    "test_X = testset.copy()\n",
    "test_X.drop('sale_amt',axis = 1, inplace = True)\n",
    "test_Y = testset['sale_amt']"
   ]
  },
  {
   "cell_type": "code",
   "execution_count": 48,
   "metadata": {},
   "outputs": [
    {
     "data": {
      "text/plain": [
       "((218782, 38), (5092, 38))"
      ]
     },
     "execution_count": 48,
     "metadata": {},
     "output_type": "execute_result"
    }
   ],
   "source": [
    "train_X.shape, test_X.shape"
   ]
  },
  {
   "cell_type": "code",
   "execution_count": 49,
   "metadata": {},
   "outputs": [],
   "source": [
    "N1 = len(train_X)\n",
    "indices = np.arange(len(trainset))\n",
    "selind = random.sample(list(indices), N1)\n",
    "train_X_use = train_X.iloc[selind]\n",
    "train_Y_use = train_Y.iloc[selind]\n",
    "\n",
    "N2 = len(test_X)\n",
    "indices = np.arange(len(testset))\n",
    "selind = random.sample(list(indices), N2)\n",
    "test_X_use = test_X.iloc[selind]\n",
    "test_Y_use = test_Y.iloc[selind]"
   ]
  },
  {
   "cell_type": "code",
   "execution_count": 50,
   "metadata": {},
   "outputs": [],
   "source": [
    "feats = ['prop_city','prop_zip_code','census_tract','zoning']\n",
    "cat_feats = list(train_X_use.dtypes[train_X_use.dtypes == \"object\"].index)\n",
    "train_test = pd.concat([train_X_use, test_X_use], ignore_index=True)\n",
    "for col in feats:\n",
    "    train_test[col] = pd.factorize(train_test[col], sort = True)[0]\n",
    "    cat_feats.remove(col)\n",
    "train_test = pd.get_dummies(train_test, dummy_na = 'True', prefix = cat_feats)"
   ]
  },
  {
   "cell_type": "code",
   "execution_count": 51,
   "metadata": {},
   "outputs": [
    {
     "data": {
      "text/plain": [
       "(218782, 205)"
      ]
     },
     "execution_count": 51,
     "metadata": {},
     "output_type": "execute_result"
    }
   ],
   "source": [
    "train_X_use = train_test[:N1]\n",
    "test_X_use = train_test[N1:]\n",
    "train_X_use.shape"
   ]
  },
  {
   "cell_type": "code",
   "execution_count": 52,
   "metadata": {},
   "outputs": [],
   "source": [
    "from lightgbm import LGBMRegressor\n",
    "\n",
    "lightgbm = LGBMRegressor(objective='regression', \n",
    "                                       num_leaves=40,#4, 10, 20, 30, 50, 80\n",
    "                                       learning_rate=0.01, #0.01, 0.002\n",
    "                                       n_estimators=5000,\n",
    "                                       max_bin=1000, # 200\n",
    "                                       bagging_fraction=0.75,\n",
    "                                       bagging_freq=5, \n",
    "                                       bagging_seed=7,\n",
    "                                       feature_fraction=0.8, #0.2\n",
    "                                       feature_fraction_seed=7,\n",
    "                                       verbose=-1,\n",
    "                                       )\n",
    "lightgbm.fit(train_X_use, train_Y_use)\n",
    "\n",
    "y_predict = lightgbm.predict(test_X_use)\n",
    "train_pre = lightgbm.predict(train_X_use)"
   ]
  },
  {
   "cell_type": "markdown",
   "metadata": {},
   "source": [
    "#### Results"
   ]
  },
  {
   "cell_type": "code",
   "execution_count": 53,
   "metadata": {},
   "outputs": [
    {
     "name": "stdout",
     "output_type": "stream",
     "text": [
      "train 0.4078443381996691\n",
      "test 0.4966614296936371\n"
     ]
    }
   ],
   "source": [
    "# Results are shown for the percentage that the prediction is within 10% error of the true trading prices. \n",
    "thresh = 0.1\n",
    "pererror = []\n",
    "counts = 0\n",
    "labels = list(train_Y_use)\n",
    "for i in range(len(train_pre)):\n",
    "    pererror.append((np.expm1(train_pre[i])-np.expm1(labels[i]))/np.expm1(labels[i]))\n",
    "    if np.abs(pererror[i]) < thresh:\n",
    "        counts += 1\n",
    "print('train', counts/len(train_pre))\n",
    "\n",
    "pererror = []\n",
    "counts = 0\n",
    "labels = list(test_Y_use)\n",
    "for i in range(len(y_predict)):\n",
    "    pererror.append((np.expm1(y_predict[i])-np.expm1(labels[i]))/np.expm1(labels[i]))\n",
    "    if np.abs(pererror[i]) < thresh:\n",
    "        counts += 1\n",
    "print('test', counts/len(y_predict))"
   ]
  },
  {
   "cell_type": "code",
   "execution_count": 54,
   "metadata": {},
   "outputs": [
    {
     "data": {
      "image/png": "[encoded data removed]",
      "text/plain": [
       "<Figure size 432x288 with 3 Axes>"
      ]
     },
     "metadata": {},
     "output_type": "display_data"
    }
   ],
   "source": [
    "labels = list(train_Y_use)\n",
    "#range = (0, 1000000)\n",
    "bins = np.linspace(0,1500000,40)\n",
    "plt.subplot(2, 2, 1)\n",
    "plt.hist(np.expm1(labels),bins= bins)\n",
    "plt.subplot(2, 2, 2)\n",
    "plt.hist(np.expm1(train_pre), bins = bins, color = 'orange')\n",
    "plt.subplot(212)\n",
    "plt.hist(np.expm1(labels),bins= bins)\n",
    "plt.hist(np.expm1(train_pre), bins = bins, color = 'orange')\n",
    "plt.show()"
   ]
  },
  {
   "cell_type": "code",
   "execution_count": 55,
   "metadata": {
    "_kg_hide-input": false
   },
   "outputs": [],
   "source": [
    "from sklearn import linear_model\n",
    "\n",
    "clf = linear_model.HuberRegressor()\n",
    "clf.fit(train_X_use, train_Y_use)\n",
    "r2 = clf.score(test_X_use, test_Y_use)\n",
    "y_predict = clf.predict(test_X_use)\n",
    "train_pre = clf.predict(train_X_use)"
   ]
  },
  {
   "cell_type": "code",
   "execution_count": 56,
   "metadata": {
    "_kg_hide-input": false
   },
   "outputs": [
    {
     "name": "stdout",
     "output_type": "stream",
     "text": [
      "train 0.1831640628570906\n",
      "test 0.2213275726630008\n"
     ]
    }
   ],
   "source": [
    "pererror = []\n",
    "counts = 0\n",
    "labels = list(train_Y_use)\n",
    "for i in range(len(train_pre)):\n",
    "    pererror.append((np.expm1(train_pre[i])-np.expm1(labels[i]))/np.expm1(labels[i]))\n",
    "    if np.abs(pererror[i]) < 0.1:\n",
    "        counts += 1\n",
    "print('train', counts/len(train_pre))\n",
    "\n",
    "pererror = []\n",
    "counts = 0\n",
    "labels = list(test_Y_use)\n",
    "for i in range(len(y_predict)):\n",
    "    pererror.append((np.expm1(y_predict[i])-np.expm1(labels[i]))/np.expm1(labels[i]))\n",
    "    if np.abs(pererror[i]) < 0.1:\n",
    "        counts += 1\n",
    "print('test', counts/len(y_predict))"
   ]
  },
  {
   "cell_type": "code",
   "execution_count": 57,
   "metadata": {},
   "outputs": [],
   "source": [
    "#K-NN\n",
    "# from sklearn.neighbors import KNeighborsRegressor\n",
    "# from sklearn.neighbors import RadiusNeighborsRegressor\n",
    "\n",
    "# model = KNeighborsRegressor(n_neighbors=200, p = 2)\n",
    "# model.fit(train_X_use, np.array(train_Y_use))\n",
    "# y_predict = model.predict(test_X_use)\n",
    "# train_pre = model.predict(train_X_use)"
   ]
  },
  {
   "cell_type": "code",
   "execution_count": 58,
   "metadata": {},
   "outputs": [],
   "source": [
    "# result for K-NN is:\n",
    "\n",
    "# train 0.18923403205016867\n",
    "# test 0.1600549882168107"
   ]
  },
  {
   "cell_type": "code",
   "execution_count": 59,
   "metadata": {
    "_kg_hide-input": true
   },
   "outputs": [],
   "source": [
    "# from sklearn.ensemble import RandomForestRegressor,  GradientBoostingRegressor\n",
    "\n",
    "# GBoost = GradientBoostingRegressor(n_estimators=3000, learning_rate=0.05,\n",
    "#                                    max_depth=10, max_features='sqrt',\n",
    "#                                    min_samples_leaf=15, min_samples_split=10, \n",
    "#                                    loss='huber', random_state =5)\n",
    "\n",
    "# # GBoost = RandomForestRegressor(n_estimators=1000,max_depth = 8)\n",
    "# GBoost.fit(train_X_use, train_Y_use)\n",
    "# r2 = GBoost.score(test_X_use, test_Y_use)\n",
    "# print(\"[INFO] Random Forest raw pixel accuracy: {:.2f}%\".format(r2 * 100))\n",
    "# y_predict = GBoost.predict(test_X_use)\n",
    "# train_pre = GBoost.predict(train_X_use)\n"
   ]
  }
 ],
 "metadata": {
  "kernelspec": {
   "display_name": "Python 3",
   "language": "python",
   "name": "python3"
  },
  "language_info": {
   "codemirror_mode": {
    "name": "ipython",
    "version": 3
   },
   "file_extension": ".py",
   "mimetype": "text/x-python",
   "name": "python",
   "nbconvert_exporter": "python",
   "pygments_lexer": "ipython3",
   "version": "3.6.6"
  }
 },
 "nbformat": 4,
 "nbformat_minor": 1
}
