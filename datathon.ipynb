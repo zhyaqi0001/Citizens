{
  "cells": [
    {
      "metadata": {
        "_cell_guid": "b1076dfc-b9ad-4769-8c92-a6c4dae69d19",
        "_uuid": "8f2839f25d086af736a60e9eeb907d3b93b6e0e5",
        "trusted": true
      },
      "cell_type": "code",
      "source": "# This Python 3 environment comes with many helpful analytics libraries installed\n# It is defined by the kaggle/python docker image: https://github.com/kaggle/docker-python\n# For example, here's several helpful packages to load in \n\nimport numpy as np # linear algebra\nimport pandas as pd # data processing, CSV file I/O (e.g. pd.read_csv)\n\n# Input data files are available in the \"../input/\" directory.\n# For example, running this (by clicking run or pressing Shift+Enter) will list the files in the input directory\n\nimport os\nprint(os.listdir(\"../input\"))\nprint(os.listdir(\"../input/citizens/Citizens\"))\n\n# Any results you write to the current directory are saved as output.",
      "execution_count": 1,
      "outputs": [
        {
          "output_type": "stream",
          "text": "['citizens']\n['datathon_propattributes.csv', 'datathon_propattributes.obj', 'demoNotebook.ipynb', 'demoNotebook.html', 'FileLayout.xlsx']\n",
          "name": "stdout"
        }
      ]
    },
    {
      "metadata": {
        "_cell_guid": "79c7e3d0-c299-4dcb-8224-4455121ee9b0",
        "_uuid": "d629ff2d2480ee46fbb7e2d37f6b5fab8052498a",
        "trusted": true
      },
      "cell_type": "code",
      "source": "import pickle\nimport numpy as np\nimport datetime as dt\nimport matplotlib.pyplot as plt\nfrom scipy import stats\n\n# You may not have this dependency downloaded! It cannot be installed traditionally with the pip command.\n# You may have to create a python virtual environment to get this dependency. However, it is a visualization\n# tool for the demo and you do not need it for your own project. Our suggestions is to view the demoNotebook.html\n# file in browser to see the output of the demo.\nimport mpl_toolkits\n \nfrom mpl_toolkits.basemap import Basemap\nfrom matplotlib.patches import Polygon\nfrom matplotlib.collections import PatchCollection\nfrom matplotlib.colors import Normalize    \n%matplotlib inline\npath = '../input/citizens/Citizens'\n\n#Read in the data\ntest = open(path + '/datathon_propattributes.obj', 'rb')\ntest = pickle.load(test)\n\npd.set_option('display.max_rows', 200)",
      "execution_count": 2,
      "outputs": []
    },
    {
      "metadata": {
        "_uuid": "49b6f4fd1f86dd0e409e83d8aa1fa7084b3b4cd6",
        "collapsed": true,
        "trusted": false
      },
      "cell_type": "code",
      "source": "#predict = test[test['transaction_dt'] > '2018-10-01']",
      "execution_count": null,
      "outputs": []
    },
    {
      "metadata": {
        "_uuid": "dee65cf9bb19a702868c804fd92c15acd36098a3",
        "trusted": true
      },
      "cell_type": "code",
      "source": "col_use = ['prop_zip_code','construction_quality','condition','dwelling_type','acres','assessed_total_value','assessed_land_value','market_total_value','market_land_value','building_square_feet','transaction_dt', 'sale_amt']\nnew_test = pd.DataFrame(test[col_use])\ncol_value = ['acres','assessed_total_value','assessed_land_value','market_total_value','market_land_value','building_square_feet','sale_amt']\nfor col in col_value:\n    new_test = new_test[(new_test[col]>0)]",
      "execution_count": 3,
      "outputs": []
    },
    {
      "metadata": {
        "_uuid": "e2e40e5c5fa1744ab3385f180381e81ff8bfe577",
        "trusted": true
      },
      "cell_type": "code",
      "source": "\nnew_test['acres'] = new_test['acres'].apply(lambda x: np.log(x))\nnew_test['market_total_value'] = new_test['market_total_value'].apply(lambda x: np.log(x))\nnew_test['market_land_value'] = new_test['market_land_value'].apply(lambda x: np.log(x))\nnew_test['assessed_total_value'] = new_test['assessed_total_value'].apply(lambda x: np.log(x))\nnew_test['assessed_land_value'] = new_test['assessed_land_value'].apply(lambda x: np.log(x))\n\nnew_test['building_square_feet'] = new_test['building_square_feet'].apply(lambda x: np.log(x))\nnew_test['sale_amt'] = new_test['sale_amt'].apply(lambda x: np.log(x))\n",
      "execution_count": 4,
      "outputs": []
    },
    {
      "metadata": {
        "_uuid": "c3f8ccff466f89051f439e53d212e1b2705c692f",
        "trusted": true
      },
      "cell_type": "code",
      "source": "for col in col_value:\n    col_trim = [col]\n    new_test = new_test[(np.abs(stats.zscore(new_test[col_trim])) < 3).all(axis=1)]",
      "execution_count": 5,
      "outputs": []
    },
    {
      "metadata": {
        "_uuid": "de7fc443d02c114aaa8af1ae0a92fc48b5b5533d",
        "trusted": true
      },
      "cell_type": "code",
      "source": "h,x,y = np.histogram2d(new_test['acres'],new_test['sale_amt'])\nplt.xlabel('acres')\nplt.ylabel('sale_amt')\nplt.imshow(h)",
      "execution_count": null,
      "outputs": []
    },
    {
      "metadata": {
        "_uuid": "296f5d2538a322a3f7f0a5a91474266647255f22",
        "trusted": true
      },
      "cell_type": "code",
      "source": "def var2num(test,var,n_label=0):\n    if n_label==0:\n        col = test[var].value_counts().index.values.tolist()\n    else:\n        col = test[var].value_counts().index[:n_label].values.tolist()\n    ind = [i+1 for i in range(len(col))]\n    Zip = zip(col,ind)\n    dic = dict(Zip)\n    new = test[var].apply(lambda x:dic[x] if x in dic else None)\n    mean = new.mean()\n    new_col = new.fillna(mean)\n    return new_col",
      "execution_count": 6,
      "outputs": []
    },
    {
      "metadata": {
        "_uuid": "f55a6d12da68f7dfafa6fd0882a16eb432335ef6",
        "trusted": true
      },
      "cell_type": "code",
      "source": "#var = 'prop_state'\n#new_test[var] = var2num(new_test,var,n_label=0)\n\nvar = 'prop_zip_code'\nnew_test[var] = var2num(new_test,var,n_label=50)\n\nvar = 'construction_quality'\nnew_test[var] = var2num(new_test,var,n_label=0)\n\n#var = 'roof_cover'\n#new_test[var] = var2num(new_test,var,n_label=10)\n\nvar = 'condition'\nnew_test[var] = var2num(new_test,var,n_label=0)\n\nvar = 'dwelling_type'\nnew_test[var] = var2num(new_test,var,n_label=10)\nlen(new_test)",
      "execution_count": 7,
      "outputs": [
        {
          "output_type": "execute_result",
          "execution_count": 7,
          "data": {
            "text/plain": "1421851"
          },
          "metadata": {}
        }
      ]
    },
    {
      "metadata": {
        "_uuid": "ee0960402ed248fd1313b825d6d9e87a0f464e9a",
        "trusted": true
      },
      "cell_type": "code",
      "source": "h,x,y = np.histogram2d(new_test['prop_zip_code'],new_test['sale_amt'])\nplt.xlabel('prop_zip_code')\nplt.ylabel('sale_amt')\nplt.imshow(h)",
      "execution_count": null,
      "outputs": []
    },
    {
      "metadata": {
        "_uuid": "f320f7f883428bdf13596b3dcecdbd114445a3c9",
        "trusted": true
      },
      "cell_type": "code",
      "source": "h,x,y = np.histogram2d(new_test['construction_quality'],new_test['sale_amt'])\nplt.xlabel('construction_quality')\nplt.ylabel('sale_amt')\nplt.imshow(h)",
      "execution_count": null,
      "outputs": []
    },
    {
      "metadata": {
        "_uuid": "0821d643581fb1af8339e16ec84a8ebc1e7b9686",
        "trusted": true
      },
      "cell_type": "code",
      "source": "h,x,y = np.histogram2d(new_test['condition'],new_test['sale_amt'])\nplt.xlabel('condition')\nplt.ylabel('sale_amt')\nplt.imshow(h)",
      "execution_count": null,
      "outputs": []
    },
    {
      "metadata": {
        "_uuid": "5531c57fce182fe268cfb623cd12faed5a3ace76",
        "trusted": true
      },
      "cell_type": "code",
      "source": "h,x,y = np.histogram2d(new_test['dwelling_type'],new_test['sale_amt'])\nplt.xlabel('dwelling_type')\nplt.ylabel('sale_amt')\nplt.imshow(h)",
      "execution_count": null,
      "outputs": []
    },
    {
      "metadata": {
        "_uuid": "2fc79776ce849dd88f86e1c188c37bce37b66def",
        "trusted": true
      },
      "cell_type": "code",
      "source": "col_value = ['sale_amt','acres','assessed_total_value','assessed_land_value','market_total_value','market_land_value','building_square_feet']\n#col_value.append('prop_zip_code')\ncol_value.append('transaction_dt')\nnew_test2 = pd.DataFrame(new_test[col_value])\nnew_test2.head()",
      "execution_count": 8,
      "outputs": [
        {
          "output_type": "execute_result",
          "execution_count": 8,
          "data": {
            "text/plain": "    sale_amt     acres       ...        building_square_feet  transaction_dt\n0  11.589887 -0.478036       ...                    7.124478      2016-04-07\n1  12.234417 -0.478036       ...                    7.124478      2017-07-12\n2   7.685703 -0.478036       ...                    7.124478      2015-06-03\n3  12.206073 -0.478036       ...                    7.124478      2008-06-30\n4  11.773750 -2.120264       ...                    7.129298      2010-05-26\n\n[5 rows x 8 columns]",
            "text/html": "<div>\n<style scoped>\n    .dataframe tbody tr th:only-of-type {\n        vertical-align: middle;\n    }\n\n    .dataframe tbody tr th {\n        vertical-align: top;\n    }\n\n    .dataframe thead th {\n        text-align: right;\n    }\n</style>\n<table border=\"1\" class=\"dataframe\">\n  <thead>\n    <tr style=\"text-align: right;\">\n      <th></th>\n      <th>sale_amt</th>\n      <th>acres</th>\n      <th>assessed_total_value</th>\n      <th>assessed_land_value</th>\n      <th>market_total_value</th>\n      <th>market_land_value</th>\n      <th>building_square_feet</th>\n      <th>transaction_dt</th>\n    </tr>\n  </thead>\n  <tbody>\n    <tr>\n      <th>0</th>\n      <td>11.589887</td>\n      <td>-0.478036</td>\n      <td>12.087289</td>\n      <td>10.905956</td>\n      <td>12.087289</td>\n      <td>10.905956</td>\n      <td>7.124478</td>\n      <td>2016-04-07</td>\n    </tr>\n    <tr>\n      <th>1</th>\n      <td>12.234417</td>\n      <td>-0.478036</td>\n      <td>12.087289</td>\n      <td>10.905956</td>\n      <td>12.087289</td>\n      <td>10.905956</td>\n      <td>7.124478</td>\n      <td>2017-07-12</td>\n    </tr>\n    <tr>\n      <th>2</th>\n      <td>7.685703</td>\n      <td>-0.478036</td>\n      <td>12.087289</td>\n      <td>10.905956</td>\n      <td>12.087289</td>\n      <td>10.905956</td>\n      <td>7.124478</td>\n      <td>2015-06-03</td>\n    </tr>\n    <tr>\n      <th>3</th>\n      <td>12.206073</td>\n      <td>-0.478036</td>\n      <td>12.087289</td>\n      <td>10.905956</td>\n      <td>12.087289</td>\n      <td>10.905956</td>\n      <td>7.124478</td>\n      <td>2008-06-30</td>\n    </tr>\n    <tr>\n      <th>4</th>\n      <td>11.773750</td>\n      <td>-2.120264</td>\n      <td>11.795092</td>\n      <td>9.957028</td>\n      <td>11.795092</td>\n      <td>9.957028</td>\n      <td>7.129298</td>\n      <td>2010-05-26</td>\n    </tr>\n  </tbody>\n</table>\n</div>"
          },
          "metadata": {}
        }
      ]
    },
    {
      "metadata": {
        "_uuid": "45e8f7ceb9b0fab6b96892ac898c188ccfbfc7a6",
        "trusted": true
      },
      "cell_type": "code",
      "source": "from sklearn.preprocessing import normalize\n\ncheckdate = '2018-10-01'\ncheckdate = pd.to_datetime(checkdate)\ncheckdateend = '2018-12-31'\ncheckdateend = pd.to_datetime(checkdateend)\ntestset = new_test[(new_test['transaction_dt'] >= checkdate)&(new_test['transaction_dt'] < checkdateend)]\ntrainset = new_test[new_test['transaction_dt'] < checkdate]\n\n\ncol_X = col_value [1:-1]\ntrain_X = trainset[col_X]\ntrain_Y = trainset['sale_amt']\n\ntest_X = testset[col_X]\ntest_Y = testset['sale_amt']\ntrain_X = normalize(train_X, axis=0, norm='l1')\ntest_X = normalize(test_X, axis=0, norm='l1')",
      "execution_count": 9,
      "outputs": []
    },
    {
      "metadata": {
        "_uuid": "e57ed22ea717178db1c90c4798b553578f19e4d7",
        "trusted": true
      },
      "cell_type": "code",
      "source": "print(np.shape(train_X),np.shape(test_X))",
      "execution_count": null,
      "outputs": []
    },
    {
      "metadata": {
        "_uuid": "916baf1b3fb0a6132867d0dae1b2c90ba1b4a1ad",
        "trusted": true
      },
      "cell_type": "code",
      "source": "##K-NN\nfrom sklearn.neighbors import KNeighborsRegressor\nfrom sklearn.neighbors import RadiusNeighborsRegressor\nprint(\"\\n\")\nprint(\"[INFO] evaluating raw pixel accuracy...\")\nmodel = KNeighborsRegressor(n_neighbors=100, p = 2)\nmodel.fit(train_X, np.array(train_Y))\nacc = model.predict(test_X)\nacc\npre = model.score(test_X, test_Y)\nprint(\"[INFO] SVM-SVC raw pixel accuracy: {:.2f}%\".format(pre * 100))",
      "execution_count": null,
      "outputs": []
    },
    {
      "metadata": {
        "_uuid": "154456046c0a61f086ce74cb48fc86957c019c3a"
      },
      "cell_type": "markdown",
      "source": "train_X.head()"
    },
    {
      "metadata": {
        "trusted": true,
        "_uuid": "e306b4659e028cdeaa58fafe8c85e9e3cda4f540"
      },
      "cell_type": "code",
      "source": "##Random Forest\nfrom sklearn.ensemble import RandomForestRegressor\nprint(\"\\n\")\nprint(\"[INFO] evaluating raw pixel accuracy...\")\nmodel = RandomForestRegressor(n_estimators=30)\nmodel.fit(train_X, np.array(train_Y))\nacc = model.score(train_X, np.array(train_Y))\nprint(\"[INFO] Random Forest raw pixel accuracy: {:.2f}%\".format(acc * 100))\nacc = model.predict(test_X)\nacc",
      "execution_count": 12,
      "outputs": [
        {
          "output_type": "stream",
          "text": "\n\n[INFO] evaluating raw pixel accuracy...\n[INFO] Random Forest raw pixel accuracy: 0.00%\n",
          "name": "stdout"
        },
        {
          "output_type": "execute_result",
          "execution_count": 12,
          "data": {
            "text/plain": "array([11.59887043, 11.59887043, 11.59887043, ..., 11.70170743,\n       11.59887043, 11.59887043])"
          },
          "metadata": {}
        }
      ]
    },
    {
      "metadata": {
        "trusted": true,
        "_uuid": "daf6e02a24a1a580a327070986f1a01af642c720"
      },
      "cell_type": "code",
      "source": "#SVC\nfrom sklearn.svm import SVC\nprint(\"\\n\")\nprint(\"[INFO] evaluating raw pixel accuracy...\")\nmodel = SVC(max_iter=1000,class_weight='balanced',C = 2, gamma = 0.2)\nmodel.fit(X_val, Y_val)\nacc = model.score(X_val, Y_val)\nprint(\"[INFO] SVM-SVC raw pixel accuracy: {:.2f}%\".format(acc * 100))",
      "execution_count": null,
      "outputs": []
    },
    {
      "metadata": {
        "trusted": true,
        "_uuid": "52404486db850835041b1609a36d6899d86ae2f8"
      },
      "cell_type": "code",
      "source": "##LGB\nimport lightgbm as lgb\nimport xgboost as xgb\ndef run_lgb(train_X, train_y, val_X, val_y, test_X):\n    params = {\n        \"objective\" : \"regression\",\n        \"metric\" : \"rmse\",\n        'boosting_type' : 'goss',\n        'max_depth' : 6,#-1\n        \"num_leaves\" : 20,#20\n        \"learning_rate\" : 0.001,#0.01\n        #\"bagging_fraction\" : 0.6,#0.7 #0.8 #0.3\n        \"feature_fraction\" : 0.7,#0.7 #0.5\n        #\"bagging_freq\" : 2, #10 #20\n        \"bagging_seed\" : 42, #2018\n        \"verbosity\" : -1,\n        'lambda_l2' : 0.0001,#0.1\n        'lambda_l1' : 0.001,#0,\n        'max_bin' : 300 #default=250 #200 #170 #120 #90\n    }\n    \n    lgtrain = lgb.Dataset(train_X, label=train_y)\n    lgval = lgb.Dataset(val_X, label=val_y)\n    evals_result = {}\n    model = lgb.train(params, lgtrain, 1000, valid_sets=[lgtrain, lgval], early_stopping_rounds=10000, \n                      verbose_eval=200, evals_result=evals_result)\n    \n    pred_test_y = model.predict(test_X, num_iteration=model.best_iteration)\n    return pred_test_y, model, evals_result",
      "execution_count": null,
      "outputs": []
    },
    {
      "metadata": {
        "trusted": true,
        "_uuid": "76b8b3ba8cb6629ad7ca6411ad3c79f86bf19a82"
      },
      "cell_type": "code",
      "source": "pred ,_, evals_result =run_lgb(train_x, train_y, val_x1, val_y1, test_X)",
      "execution_count": null,
      "outputs": []
    },
    {
      "metadata": {
        "trusted": true,
        "_uuid": "e36880d532f842177a874f92312e25a921239597"
      },
      "cell_type": "code",
      "source": "pererror = []\ncounts = 0\nlabels = list(test_Y)\nfor i in range(len(acc)):\n    pererror.append((acc[i]-labels[i])/labels[i])\n    if np.abs(pererror[i]) < 0.1:\n        counts += 1\ncounts/len(acc)\n",
      "execution_count": 13,
      "outputs": [
        {
          "output_type": "execute_result",
          "execution_count": 13,
          "data": {
            "text/plain": "0.8207309998066138"
          },
          "metadata": {}
        }
      ]
    },
    {
      "metadata": {
        "_uuid": "0ced434af025d69d048b2412d45ccb36fcecc19a",
        "collapsed": true,
        "trusted": false
      },
      "cell_type": "code",
      "source": "model.predict(train_X)",
      "execution_count": null,
      "outputs": []
    },
    {
      "metadata": {
        "_uuid": "ba62f782ef1f9b1c0469ee0454cd92d8df0198fc",
        "trusted": false
      },
      "cell_type": "code",
      "source": "np.std(acc) / np.mean(acc) , np.min(acc),np.max(acc)\n",
      "execution_count": null,
      "outputs": []
    },
    {
      "metadata": {
        "_uuid": "a45395a981b294372424cc99b5ead9c4487db667",
        "trusted": false
      },
      "cell_type": "code",
      "source": "plt.hist(acc,bins = 50)\nplt.show()",
      "execution_count": null,
      "outputs": []
    },
    {
      "metadata": {
        "_uuid": "b8d7dd692a273a77931f47f962a4d5b346cb7202",
        "trusted": true
      },
      "cell_type": "code",
      "source": "pererror = []\ncounts = 0\nlabels = list(test_Y)\nfor i in range(len(acc)):\n    pererror.append((acc[i]-labels[i])/labels[i])\n    if np.abs(pererror[i]) < 0.1:\n        counts += 1\ncounts/len(acc)\n",
      "execution_count": null,
      "outputs": []
    },
    {
      "metadata": {
        "trusted": true,
        "_uuid": "bfe2b4de7844fe8c8803ae7a8a634c4f6ca6b447"
      },
      "cell_type": "code",
      "source": "###LGB\nimport lightgbm as lgb\nimport xgboost as xgb\ndef run_lgb(train_X, train_y, val_X, val_y, test_X):\n    params = {\n        \"objective\" : \"regression\",\n        \"metric\" : \"rmse\",\n        'boosting_type' : 'goss',\n        'max_depth' : 6,#-1\n        \"num_leaves\" : 20,#20\n        \"learning_rate\" : 0.001,#0.01\n        #\"bagging_fraction\" : 0.6,#0.7 #0.8 #0.3\n        \"feature_fraction\" : 0.7,#0.7 #0.5\n        #\"bagging_freq\" : 2, #10 #20\n        \"bagging_seed\" : 42, #2018\n        \"verbosity\" : -1,\n        'lambda_l2' : 0.0001,#0.1\n        'lambda_l1' : 0.001,#0,\n        'max_bin' : 300 #default=250 #200 #170 #120 #90\n    }\n    \n    lgtrain = lgb.Dataset(train_X, label=train_y)\n    lgval = lgb.Dataset(val_X, label=val_y)\n    evals_result = {}\n    model = lgb.train(params, lgtrain, 1000, valid_sets=[lgtrain, lgval], early_stopping_rounds=10000, \n                      verbose_eval=200, evals_result=evals_result)\n    \n    pred_test_y = model.predict(test_X, num_iteration=model.best_iteration)\n    return pred_test_y, model, evals_result",
      "execution_count": null,
      "outputs": []
    },
    {
      "metadata": {
        "trusted": true,
        "_uuid": "45270fd4141c8b8ad1640a47457bc6280922e3a4"
      },
      "cell_type": "code",
      "source": "pred ,_, evals_result =run_lgb(train_x, train_y, val_x1, val_y1, test_X)",
      "execution_count": null,
      "outputs": []
    },
    {
      "metadata": {
        "_uuid": "7c79fd5878156b77a5d2669b60c86936f6118c4a",
        "trusted": false
      },
      "cell_type": "code",
      "source": "\nnew_test = new_test[(np.abs(stats.zscore(new_test[['sale_amt']])) < 3).all(axis=1)]\nh,x,y = np.histogram2d(new_test['building_square_feet'],new_test['sale_amt'])\n\nplt.imshow(h)",
      "execution_count": null,
      "outputs": []
    },
    {
      "metadata": {
        "_uuid": "24f48e7941de223635169b84c593498e38767a61",
        "trusted": false
      },
      "cell_type": "code",
      "source": "new_test = new_test[(np.abs(stats.zscore(new_test[['market_total_value']])) < 3).all(axis=1)]\nnew_test = new_test[(np.abs(stats.zscore(new_test[['sale_amt']])) < 3).all(axis=1)]\nh,x,y = np.histogram2d(new_test['market_total_value'],new_test['sale_amt'])\n\nplt.imshow(h)",
      "execution_count": null,
      "outputs": []
    },
    {
      "metadata": {
        "_uuid": "f07650bf502404b65b870b400d57539cf1d1b60f",
        "trusted": false
      },
      "cell_type": "code",
      "source": "new_test = new_test[(np.abs(stats.zscore(new_test[['market_land_value']])) < 3).all(axis=1)]\nnew_test = new_test[(np.abs(stats.zscore(new_test[['sale_amt']])) < 3).all(axis=1)]\nh,x,y = np.histogram2d(new_test['market_land_value'],new_test['sale_amt'])\n\nplt.imshow(h)",
      "execution_count": null,
      "outputs": []
    },
    {
      "metadata": {
        "_uuid": "fe05cc87c7b535921a24bdd89eb81fee7772bed2",
        "collapsed": true,
        "trusted": false
      },
      "cell_type": "code",
      "source": "pd.set_option(\"display.colheader_justify\", 'left')\ntest2=pd.read_excel(path + '/FileLayout.xlsx')\npd.set_option('display.max_rows', 72)\npd.set_option('max_colwidth', 500)\ntest2[21:42]",
      "execution_count": null,
      "outputs": []
    },
    {
      "metadata": {
        "_uuid": "ca87755bbd9fd6bd766f2d1f06355268687b2482",
        "collapsed": true,
        "trusted": false
      },
      "cell_type": "code",
      "source": "total =len(test['dwelling_type']) \ntrain1 = pd.DataFrame(test['dwelling_type'].value_counts()/total)\ntrain1['index'] = 1\nfor i in range(total):\n    if train1.[] \n  #      train1[index] = 0\ntrain1\n",
      "execution_count": null,
      "outputs": []
    },
    {
      "metadata": {
        "_uuid": "6282afd504ca0a7c84c552728729f0b5a379d3e2",
        "collapsed": true,
        "trusted": false
      },
      "cell_type": "code",
      "source": "test['construction_quality'].unique()\ntest['construction_quality'].value_counts()",
      "execution_count": null,
      "outputs": []
    },
    {
      "metadata": {
        "_uuid": "114f01a31777c0322ed84201e7026e6a44f7111a",
        "collapsed": true,
        "trusted": false
      },
      "cell_type": "code",
      "source": "checkdate = '2018-10-01'\ncheckdate = pd.to_datetime(checkdate)\ntestset = test[test['transaction_dt'] >= checkdate]\n",
      "execution_count": null,
      "outputs": []
    },
    {
      "metadata": {
        "_uuid": "8733cd5e7692e1f31859cbfd81c547d3c6b88977",
        "collapsed": true,
        "trusted": false
      },
      "cell_type": "code",
      "source": "for col in test.columns:\n    print(test[col].value_counts(dropna=False).head(3))",
      "execution_count": null,
      "outputs": []
    },
    {
      "metadata": {
        "_uuid": "1e8d80f04f4431d8eaaafec8b76573fb5938b1d5",
        "collapsed": true,
        "trusted": false
      },
      "cell_type": "code",
      "source": "import matplotlib.pyplot as plt\n\nplt.hist(test['transaction_dt'],bins = 10)\nplt.show()",
      "execution_count": null,
      "outputs": []
    },
    {
      "metadata": {
        "_uuid": "82ab307fd192ee52812b5dc8dfb004fa7554e5cd",
        "collapsed": true,
        "trusted": false
      },
      "cell_type": "code",
      "source": "for col in test.columns[21:40]:\n    print(col)",
      "execution_count": null,
      "outputs": []
    },
    {
      "metadata": {
        "_uuid": "17ac2fd13fab9203b2b5391eb4be27eeaeb115ae",
        "collapsed": true,
        "trusted": false
      },
      "cell_type": "code",
      "source": "plt.hist(test.columns[21],bins = 10)\nplt.show()",
      "execution_count": null,
      "outputs": []
    },
    {
      "metadata": {
        "_uuid": "85b81254e81c15e831e24b02e0c6021d5dfb07a3",
        "collapsed": true,
        "trusted": false
      },
      "cell_type": "code",
      "source": "var = test.columns[21]\ntest[var]\ntest['sale_amt']",
      "execution_count": null,
      "outputs": []
    },
    {
      "metadata": {
        "_uuid": "4e94377ee272f3d3baaa5b143beb9641aecb5d28",
        "collapsed": true,
        "trusted": false
      },
      "cell_type": "code",
      "source": "var = test.columns[22]\nplt.scatter(test[var],test['sale_amt'])\nplt.xlabel(var)\nplt.ylabel('sale_amt')\nplt.xlim(0, 200)\nplt.show()\n",
      "execution_count": null,
      "outputs": []
    },
    {
      "metadata": {
        "_uuid": "d452cbeb04ef833381e29e7be405b2c425988885",
        "collapsed": true,
        "trusted": false
      },
      "cell_type": "code",
      "source": "import seaborn as sns\nfrom scipy.stats import norm, skew\n#test['sale_amt'] = np.log1p(test['sale_amt'])\n\n#Check the new distribution \nsns.distplot(test['sale_amt'] , fit=norm);\n",
      "execution_count": null,
      "outputs": []
    },
    {
      "metadata": {
        "_uuid": "60fe274268c4f7280f8f76495408662468dea1d3",
        "collapsed": true,
        "trusted": false
      },
      "cell_type": "code",
      "source": "test[var].sort_values()",
      "execution_count": null,
      "outputs": []
    },
    {
      "metadata": {
        "_uuid": "89339c2e2b30e81359d6754b944bef480d1786ca",
        "collapsed": true,
        "trusted": false
      },
      "cell_type": "code",
      "source": "\ndata = pd.concat([test[var], test['sale_amt']], axis=1)\ndata = data[(data[var] != 0) & (data['sale_amt'] != 0)]\ndata[var].sort_values()",
      "execution_count": null,
      "outputs": []
    },
    {
      "metadata": {
        "_uuid": "39db07c569de8cbb5b579982e74e4a7d307651be",
        "collapsed": true,
        "trusted": false
      },
      "cell_type": "code",
      "source": "sns.set()\ndata = pd.concat([test[test.columns[21]],test[test.columns[22]] test['sale_amt']], axis=1)\ncols = [test.columns[21], test.columns[22], 'sale_amt']\nsns.pairplot(test[cols], height = 2.5)\nplt.show();",
      "execution_count": null,
      "outputs": []
    },
    {
      "metadata": {
        "_uuid": "0bc5e6cf97afc2133649e6c299cd5fa2225b3414",
        "collapsed": true,
        "trusted": false
      },
      "cell_type": "code",
      "source": "from sklearn.linear_model import Ridge,Lasso\nfrom sklearn.preprocessing import PolynomialFeatures\nfrom sklearn.pipeline import make_pipeline\nfrom sklearn.preprocessing import PolynomialFeatures\nfrom sklearn import linear_model\nfrom sklearn.linear_model import LinearRegression\nfrom sklearn.metrics import mean_squared_error\n\ndata  = pd.concat([test[test.columns[21]], test[test.columns[22]]], axis=1)\ndata = data[(data[test.columns[21]] != 0) & (data[test.columns[22]] != 0)]\nx_plot = data.iloc[:,0]\nmodel = make_pipeline(PolynomialFeatures(1), LinearRegression())\nmodel.fit(X_plot, data.iloc[:,1])\nmse = mean_squared_error(model.predict(X_plot), data.iloc[:,1])\ny_plot = model.predict(x_plot[:, np.newaxis])\nplt.plot(x_plot, y_plot, color='red',\n                 linewidth=2)\n\nplt.scatter(x_plot, data.iloc[:,1], color='navy', s=30, marker='o', label=\"training points\")\n#poly = PolynomialFeatures(degree=2)\n#model.fit(X_plot, data.iloc[:,1])\n#y_plot = model.predict(X_plot)\n#plt.plot(X_plot, y_plot, linewidth=2, label=\"degree %d\" % 2)\nplt.show()",
      "execution_count": null,
      "outputs": []
    },
    {
      "metadata": {
        "_uuid": "cce37c9358599e53d0440d736ce98dd3979fdca8",
        "collapsed": true,
        "trusted": false
      },
      "cell_type": "code",
      "source": "from scipy.optimize import minimize\ndata  = pd.concat([test[test.columns[21]], test[test.columns[22]]], axis=1)\ndata = data[(data[test.columns[21]] != 0) & (data[test.columns[22]] != 0)]\nx_plot = data.iloc[:,0]\nX_plot = x_plot[:, np.newaxis]\ndef fit(X, params):\n    return X*params[0]+X*params[1]\n\ndef cost_function(params, X, y):\n    return np.sum(np.abs(y - fit(X, params)))\n\noutput = minimize(cost_function, [1,1], args=(X_plot, data.iloc[:,1]))\ny_hat = fit(np.c_[data[:,0], data[:,1]], output.x)\ny_plot = fit(X, output.x)\n\nplt.scatter(x_plot, data.iloc[:,1], color='navy', s=30, marker='o', label=\"training points\")\nplt.plot(x_plot, data.iloc[:,1], color='red',linewidth=2)\nplt.show()\n",
      "execution_count": null,
      "outputs": []
    },
    {
      "metadata": {
        "_uuid": "7307bc53a1ec30736b67b849282d0eadb6a9288c",
        "collapsed": true,
        "trusted": false
      },
      "cell_type": "code",
      "source": "import matplotlib.pyplot as plt\nfrom matplotlib.cbook import boxplot_stats\nimport pandas as pd\nimport seaborn as sns\n\ndata = [\n    ('LA', 1),\n    ('Sultan', 128),\n    ('ElderCare', 1),\n    ('CA', 3),\n    ('More', 900),\n]\ndf = pd.DataFrame(data, columns=('client', 'total'))\nax = sns.boxplot(data=test)\noutliers = [y for stat in boxplot_stats(test[]) for y in stat['fliers']]\nprint(outliers)\nfor y in outliers:\n    ax.plot(1, y, 'p')\nax.set_xlim(right=1.5)\nplt.show()",
      "execution_count": null,
      "outputs": []
    },
    {
      "metadata": {
        "_uuid": "6afb51683e26bba78d3c17e614664c480a2e1cc5",
        "collapsed": true,
        "trusted": false
      },
      "cell_type": "code",
      "source": "\ntest[test.columns[23]].unique()\n",
      "execution_count": null,
      "outputs": []
    },
    {
      "metadata": {
        "_uuid": "6078554bf3be3c3d777469a89142c92a2b6bcc70",
        "collapsed": true,
        "trusted": false
      },
      "cell_type": "code",
      "source": "import seaborn as sns\nsns.set()\ndata = pd.concat([test[test.columns[24]],test[test.columns[25]],test[test.columns[26]], test['sale_amt']], axis=1)\ncols = [test.columns[24], test.columns[25], test.columns[26],'sale_amt']\nsns.pairplot(test[cols], height = 2.5)\nplt.show();",
      "execution_count": null,
      "outputs": []
    },
    {
      "metadata": {
        "_uuid": "5b51be976ce82612009fe266baf1ad736b1f097d",
        "collapsed": true,
        "trusted": false
      },
      "cell_type": "code",
      "source": "sns.set()\ndata = pd.concat([test[test.columns[27]],test[test.columns[28]],test[test.columns[29]], test['sale_amt']], axis=1)\ncols = [test.columns[27], test.columns[28], test.columns[29],'sale_amt']\nsns.pairplot(test[cols], height = 2.5)\nplt.show();",
      "execution_count": null,
      "outputs": []
    },
    {
      "metadata": {
        "_uuid": "9cd74cbaf083ccad3c7a5440b8422ab76880d803",
        "collapsed": true,
        "trusted": false
      },
      "cell_type": "code",
      "source": "test1 = test[test[test.columns[30]] > 0]\n\nplt.hist(np.log(test1[test1.columns[30]]), bins = 20)\nplt.show()",
      "execution_count": null,
      "outputs": []
    },
    {
      "metadata": {
        "_uuid": "02132d32624dd8ac24545ca25232e0091f5afb58",
        "collapsed": true,
        "trusted": false
      },
      "cell_type": "code",
      "source": "sns.set()\ndata = pd.concat([test[test.columns[30]],test[test.columns[31]], test['sale_amt']], axis=1)\ndata = data[(data['tax_amt']>0) & (data['tax_year']>0) & (data['tax_amt']<np.exp(12))]\ncols = [data.columns[0],data.columns[1],'sale_amt']\nsns.pairplot(data[cols], height = 2.5)\nplt.show();",
      "execution_count": null,
      "outputs": []
    },
    {
      "metadata": {
        "_uuid": "9b0e671421341e9815d33a867a7b7733f68e181b",
        "collapsed": true,
        "trusted": false
      },
      "cell_type": "code",
      "source": "test[test.columns[33]].unique()",
      "execution_count": null,
      "outputs": []
    },
    {
      "metadata": {
        "_uuid": "52476813ca32cdc7eb56c3da47bb4e4185bb625b",
        "collapsed": true,
        "trusted": false
      },
      "cell_type": "code",
      "source": "sns.set()\ndata = pd.concat([test[test.columns[32]],test[test.columns[33]], test['sale_amt']], axis=1)\ndata = data[(data['assessed_year']>0)]\ncols = [data.columns[0],data.columns[1],'sale_amt']\nsns.pairplot(data[cols], height = 2.5)\nplt.show();",
      "execution_count": null,
      "outputs": []
    },
    {
      "metadata": {
        "_uuid": "6ae15b244eed38508cf1f11b0b39717c4cdd51dc",
        "collapsed": true,
        "trusted": false
      },
      "cell_type": "code",
      "source": "sns.set()\ndata = pd.concat([test['building_square_feet'],test['total_living_square_feet'],test['total_ground_floor_square_feet'],test['total_basement_square_feet'] ,test['total_garage_parking_square_feet'],test['sale_amt']], axis=1)\ndata = data[(data['building_square_feet']>0) & (data['total_living_square_feet']>0) & (data['total_ground_floor_square_feet']>0)&(data['total_ground_floor_square_feet']<5*10000) & (data['total_basement_square_feet']<10000) & (data['total_garage_parking_square_feet']<10000)&(data['sale_amt']<4*100000000)]\ncols = ['building_square_feet','total_living_square_feet','total_ground_floor_square_feet','total_basement_square_feet','total_garage_parking_square_feet','sale_amt']\nsns.pairplot(data[cols], height = 2.5)\nplt.show();",
      "execution_count": null,
      "outputs": []
    },
    {
      "metadata": {
        "_uuid": "126a52d88bc0c46362edf9073bcfe10f258f62aa",
        "collapsed": true,
        "trusted": false
      },
      "cell_type": "code",
      "source": "data = pd.concat([test['building_square_feet'],test['sale_amt']],axis = 1)\ndata = data[data['building_square_feet']>0]\nplt.scatter(np.log(data['building_square_feet']),np.log(data['sale_amt']))\nplt.show()\n        ",
      "execution_count": null,
      "outputs": []
    },
    {
      "metadata": {
        "_uuid": "49f3abcc3c4abad53d2e6a6f09cce32bc6f4f49e",
        "collapsed": true,
        "trusted": false
      },
      "cell_type": "code",
      "source": "var = test.columns[21]\ndata = pd.concat([test[var], test['sale_amt']], axis=1)\ndata = data[(data[var] != 0) & (data['sale_amt'] != 0)]\ndata[var].sort_values()\n\nsns.distplot(np.log(data[var]));",
      "execution_count": null,
      "outputs": []
    },
    {
      "metadata": {
        "_uuid": "10e8df7dc30cbcdee3088c238a1e902838560636",
        "collapsed": true,
        "trusted": false
      },
      "cell_type": "code",
      "source": "sns.distplot(np.log(data['sale_amt']));",
      "execution_count": null,
      "outputs": []
    },
    {
      "metadata": {
        "_uuid": "cc715a208e7e77ddad42cf362850a1984c725983",
        "collapsed": true,
        "trusted": false
      },
      "cell_type": "code",
      "source": "from sklearn.linear_model import Ridge\nfrom sklearn.preprocessing import PolynomialFeatures\nfrom sklearn.pipeline import make_pipeline\n\nx_plot = np.log(data[var])\nX_plot = x_plot[:, np.newaxis]\nplt.scatter(x_plot, np.log(data['sale_amt']), color='navy', s=30, marker='o', label=\"training points\")\nmodel = make_pipeline(PolynomialFeatures(1), Ridge())\nmodel.fit(X_plot, np.log(data['sale_amt']))\ny_plot = model.predict(X_plot)\nplt.plot(X_plot, y_plot, linewidth=2, label=\"degree %d\" % 2)\nplt.show()",
      "execution_count": null,
      "outputs": []
    },
    {
      "metadata": {
        "_uuid": "8b30034e37eb59dbd833030d6051684291ec4081",
        "collapsed": true,
        "trusted": false
      },
      "cell_type": "code",
      "source": "##Random Forest\nfrom sklearn.ensemble import RandomForestClassifier\nprint(\"\\n\")\nprint(\"[INFO] evaluating raw pixel accuracy...\")\nmodel = RandomForestClassifier(n_estimators=200)\nmodel.fit(X_train, y_train)\nacc = model.score(X_test, y_test)\nprint(\"[INFO] Random Forest raw pixel accuracy: {:.2f}%\".format(acc * 100))\ny_predict = model.predict(X_test)\nprint(confusion_matrix(y_test, y_predict))\nprint('\\n')\nprint(classification_report(y_test,y_predict))",
      "execution_count": null,
      "outputs": []
    }
  ],
  "metadata": {
    "kernelspec": {
      "display_name": "Python 3",
      "language": "python",
      "name": "python3"
    },
    "language_info": {
      "name": "python",
      "version": "3.6.6",
      "mimetype": "text/x-python",
      "codemirror_mode": {
        "name": "ipython",
        "version": 3
      },
      "pygments_lexer": "ipython3",
      "nbconvert_exporter": "python",
      "file_extension": ".py"
    }
  },
  "nbformat": 4,
  "nbformat_minor": 1
}